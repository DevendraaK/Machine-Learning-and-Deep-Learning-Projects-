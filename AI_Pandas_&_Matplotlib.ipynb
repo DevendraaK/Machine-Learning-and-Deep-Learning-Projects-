{
  "nbformat": 4,
  "nbformat_minor": 0,
  "metadata": {
    "colab": {
      "name": "AI_Pandas_&_Matplotlib.ipynb",
      "provenance": [],
      "include_colab_link": true
    },
    "kernelspec": {
      "name": "python3",
      "display_name": "Python 3"
    }
  },
  "cells": [
    {
      "cell_type": "markdown",
      "metadata": {
        "id": "view-in-github",
        "colab_type": "text"
      },
      "source": [
        "<a href=\"https://colab.research.google.com/github/DevendraaK/Machine-Learning-and-Deep-Learning-Projects-/blob/main/AI_Pandas_%26_Matplotlib.ipynb\" target=\"_parent\"><img src=\"https://colab.research.google.com/assets/colab-badge.svg\" alt=\"Open In Colab\"/></a>"
      ]
    },
    {
      "cell_type": "markdown",
      "metadata": {
        "id": "xr--uK853RXM"
      },
      "source": [
        "Pandas --> Python Data Analysis"
      ]
    },
    {
      "cell_type": "code",
      "metadata": {
        "id": "2sG4sRAW00bH"
      },
      "source": [
        "import pandas as pd"
      ],
      "execution_count": null,
      "outputs": []
    },
    {
      "cell_type": "markdown",
      "metadata": {
        "id": "syiA_hTh6DCW"
      },
      "source": [
        "1. Series --> 1D data\n",
        "2. DataFrame --> 2D data (collection of 1D data)\n",
        "3. Pannel --> 3D data (collection of 2D data)"
      ]
    },
    {
      "cell_type": "code",
      "metadata": {
        "id": "ieXWxtvU5yur"
      },
      "source": [
        "import numpy as np"
      ],
      "execution_count": null,
      "outputs": []
    },
    {
      "cell_type": "code",
      "metadata": {
        "id": "fgFjkaaW6U5L"
      },
      "source": [
        "a = np.array([10,20,30,40,50])"
      ],
      "execution_count": null,
      "outputs": []
    },
    {
      "cell_type": "code",
      "metadata": {
        "id": "0ZQlG1E86a2O",
        "colab": {
          "base_uri": "https://localhost:8080/",
          "height": 34
        },
        "outputId": "ce3f686d-3e4d-4ec0-8fa7-4e5f4c245e50"
      },
      "source": [
        "a"
      ],
      "execution_count": null,
      "outputs": [
        {
          "output_type": "execute_result",
          "data": {
            "text/plain": [
              "array([10, 20, 30, 40, 50])"
            ]
          },
          "metadata": {
            "tags": []
          },
          "execution_count": 4
        }
      ]
    },
    {
      "cell_type": "code",
      "metadata": {
        "id": "zPBCGDC26bo2",
        "colab": {
          "base_uri": "https://localhost:8080/",
          "height": 119
        },
        "outputId": "5d4e520f-f651-47fa-e4b1-45ecf8586659"
      },
      "source": [
        "data = pd.Series(a)\n",
        "print(data)"
      ],
      "execution_count": null,
      "outputs": [
        {
          "output_type": "stream",
          "text": [
            "0    10\n",
            "1    20\n",
            "2    30\n",
            "3    40\n",
            "4    50\n",
            "dtype: int64\n"
          ],
          "name": "stdout"
        }
      ]
    },
    {
      "cell_type": "code",
      "metadata": {
        "id": "wCUouoMQ6gxc"
      },
      "source": [
        "data = pd.DataFrame({'name':pd.Series(['a','b','c','d']),\n",
        "                     'age':pd.Series([10,20,30,40])})"
      ],
      "execution_count": null,
      "outputs": []
    },
    {
      "cell_type": "code",
      "metadata": {
        "id": "he0UKt_B7IT8",
        "colab": {
          "base_uri": "https://localhost:8080/",
          "height": 173
        },
        "outputId": "fbdd2b73-f795-4aa6-ae87-3cafb37b6f54"
      },
      "source": [
        "data"
      ],
      "execution_count": null,
      "outputs": [
        {
          "output_type": "execute_result",
          "data": {
            "text/html": [
              "<div>\n",
              "<style scoped>\n",
              "    .dataframe tbody tr th:only-of-type {\n",
              "        vertical-align: middle;\n",
              "    }\n",
              "\n",
              "    .dataframe tbody tr th {\n",
              "        vertical-align: top;\n",
              "    }\n",
              "\n",
              "    .dataframe thead th {\n",
              "        text-align: right;\n",
              "    }\n",
              "</style>\n",
              "<table border=\"1\" class=\"dataframe\">\n",
              "  <thead>\n",
              "    <tr style=\"text-align: right;\">\n",
              "      <th></th>\n",
              "      <th>name</th>\n",
              "      <th>age</th>\n",
              "    </tr>\n",
              "  </thead>\n",
              "  <tbody>\n",
              "    <tr>\n",
              "      <th>0</th>\n",
              "      <td>a</td>\n",
              "      <td>10</td>\n",
              "    </tr>\n",
              "    <tr>\n",
              "      <th>1</th>\n",
              "      <td>b</td>\n",
              "      <td>20</td>\n",
              "    </tr>\n",
              "    <tr>\n",
              "      <th>2</th>\n",
              "      <td>c</td>\n",
              "      <td>30</td>\n",
              "    </tr>\n",
              "    <tr>\n",
              "      <th>3</th>\n",
              "      <td>d</td>\n",
              "      <td>40</td>\n",
              "    </tr>\n",
              "  </tbody>\n",
              "</table>\n",
              "</div>"
            ],
            "text/plain": [
              "  name  age\n",
              "0    a   10\n",
              "1    b   20\n",
              "2    c   30\n",
              "3    d   40"
            ]
          },
          "metadata": {
            "tags": []
          },
          "execution_count": 8
        }
      ]
    },
    {
      "cell_type": "code",
      "metadata": {
        "id": "QTA-_8E_7JsL",
        "colab": {
          "base_uri": "https://localhost:8080/",
          "height": 34
        },
        "outputId": "ffe7ee8d-c23a-4e9a-8e13-7706ffbfc1d5"
      },
      "source": [
        "data.columns"
      ],
      "execution_count": null,
      "outputs": [
        {
          "output_type": "execute_result",
          "data": {
            "text/plain": [
              "Index(['name', 'age'], dtype='object')"
            ]
          },
          "metadata": {
            "tags": []
          },
          "execution_count": 9
        }
      ]
    },
    {
      "cell_type": "code",
      "metadata": {
        "id": "gmkkdx477VFC",
        "colab": {
          "base_uri": "https://localhost:8080/",
          "height": 34
        },
        "outputId": "a6ec427d-beb7-4473-dd46-aea135727f58"
      },
      "source": [
        "data.shape"
      ],
      "execution_count": null,
      "outputs": [
        {
          "output_type": "execute_result",
          "data": {
            "text/plain": [
              "(4, 2)"
            ]
          },
          "metadata": {
            "tags": []
          },
          "execution_count": 10
        }
      ]
    },
    {
      "cell_type": "code",
      "metadata": {
        "id": "VmCSB7LJ7YCV"
      },
      "source": [
        "import pandas as pd\n",
        "data = pd.read_csv('http://archive.ics.uci.edu/ml/machine-learning-databases/breast-cancer-wisconsin/breast-cancer-wisconsin.data')"
      ],
      "execution_count": null,
      "outputs": []
    },
    {
      "cell_type": "code",
      "metadata": {
        "id": "0kUxbR8L8K2i",
        "colab": {
          "base_uri": "https://localhost:8080/",
          "height": 34
        },
        "outputId": "09ba19ad-20ed-404b-f1f8-3ab4307d47c1"
      },
      "source": [
        "data.shape"
      ],
      "execution_count": null,
      "outputs": [
        {
          "output_type": "execute_result",
          "data": {
            "text/plain": [
              "(698, 11)"
            ]
          },
          "metadata": {
            "tags": []
          },
          "execution_count": 12
        }
      ]
    },
    {
      "cell_type": "code",
      "metadata": {
        "id": "S346hdwz8PIo",
        "colab": {
          "base_uri": "https://localhost:8080/",
          "height": 221
        },
        "outputId": "50f7230b-30ba-4944-ae8c-bfcb56b6ae07"
      },
      "source": [
        "data.dtypes"
      ],
      "execution_count": null,
      "outputs": [
        {
          "output_type": "execute_result",
          "data": {
            "text/plain": [
              "1000025     int64\n",
              "5           int64\n",
              "1           int64\n",
              "1.1         int64\n",
              "1.2         int64\n",
              "2           int64\n",
              "1.3        object\n",
              "3           int64\n",
              "1.4         int64\n",
              "1.5         int64\n",
              "2.1         int64\n",
              "dtype: object"
            ]
          },
          "metadata": {
            "tags": []
          },
          "execution_count": 13
        }
      ]
    },
    {
      "cell_type": "code",
      "metadata": {
        "id": "6QqKvran8UgA",
        "colab": {
          "base_uri": "https://localhost:8080/",
          "height": 359
        },
        "outputId": "456397b1-f9a9-4fc3-888d-cc0572ce7dbb"
      },
      "source": [
        "data.head(10)"
      ],
      "execution_count": null,
      "outputs": [
        {
          "output_type": "execute_result",
          "data": {
            "text/html": [
              "<div>\n",
              "<style scoped>\n",
              "    .dataframe tbody tr th:only-of-type {\n",
              "        vertical-align: middle;\n",
              "    }\n",
              "\n",
              "    .dataframe tbody tr th {\n",
              "        vertical-align: top;\n",
              "    }\n",
              "\n",
              "    .dataframe thead th {\n",
              "        text-align: right;\n",
              "    }\n",
              "</style>\n",
              "<table border=\"1\" class=\"dataframe\">\n",
              "  <thead>\n",
              "    <tr style=\"text-align: right;\">\n",
              "      <th></th>\n",
              "      <th>1000025</th>\n",
              "      <th>5</th>\n",
              "      <th>1</th>\n",
              "      <th>1.1</th>\n",
              "      <th>1.2</th>\n",
              "      <th>2</th>\n",
              "      <th>1.3</th>\n",
              "      <th>3</th>\n",
              "      <th>1.4</th>\n",
              "      <th>1.5</th>\n",
              "      <th>2.1</th>\n",
              "    </tr>\n",
              "  </thead>\n",
              "  <tbody>\n",
              "    <tr>\n",
              "      <th>0</th>\n",
              "      <td>1002945</td>\n",
              "      <td>5</td>\n",
              "      <td>4</td>\n",
              "      <td>4</td>\n",
              "      <td>5</td>\n",
              "      <td>7</td>\n",
              "      <td>10</td>\n",
              "      <td>3</td>\n",
              "      <td>2</td>\n",
              "      <td>1</td>\n",
              "      <td>2</td>\n",
              "    </tr>\n",
              "    <tr>\n",
              "      <th>1</th>\n",
              "      <td>1015425</td>\n",
              "      <td>3</td>\n",
              "      <td>1</td>\n",
              "      <td>1</td>\n",
              "      <td>1</td>\n",
              "      <td>2</td>\n",
              "      <td>2</td>\n",
              "      <td>3</td>\n",
              "      <td>1</td>\n",
              "      <td>1</td>\n",
              "      <td>2</td>\n",
              "    </tr>\n",
              "    <tr>\n",
              "      <th>2</th>\n",
              "      <td>1016277</td>\n",
              "      <td>6</td>\n",
              "      <td>8</td>\n",
              "      <td>8</td>\n",
              "      <td>1</td>\n",
              "      <td>3</td>\n",
              "      <td>4</td>\n",
              "      <td>3</td>\n",
              "      <td>7</td>\n",
              "      <td>1</td>\n",
              "      <td>2</td>\n",
              "    </tr>\n",
              "    <tr>\n",
              "      <th>3</th>\n",
              "      <td>1017023</td>\n",
              "      <td>4</td>\n",
              "      <td>1</td>\n",
              "      <td>1</td>\n",
              "      <td>3</td>\n",
              "      <td>2</td>\n",
              "      <td>1</td>\n",
              "      <td>3</td>\n",
              "      <td>1</td>\n",
              "      <td>1</td>\n",
              "      <td>2</td>\n",
              "    </tr>\n",
              "    <tr>\n",
              "      <th>4</th>\n",
              "      <td>1017122</td>\n",
              "      <td>8</td>\n",
              "      <td>10</td>\n",
              "      <td>10</td>\n",
              "      <td>8</td>\n",
              "      <td>7</td>\n",
              "      <td>10</td>\n",
              "      <td>9</td>\n",
              "      <td>7</td>\n",
              "      <td>1</td>\n",
              "      <td>4</td>\n",
              "    </tr>\n",
              "    <tr>\n",
              "      <th>5</th>\n",
              "      <td>1018099</td>\n",
              "      <td>1</td>\n",
              "      <td>1</td>\n",
              "      <td>1</td>\n",
              "      <td>1</td>\n",
              "      <td>2</td>\n",
              "      <td>10</td>\n",
              "      <td>3</td>\n",
              "      <td>1</td>\n",
              "      <td>1</td>\n",
              "      <td>2</td>\n",
              "    </tr>\n",
              "    <tr>\n",
              "      <th>6</th>\n",
              "      <td>1018561</td>\n",
              "      <td>2</td>\n",
              "      <td>1</td>\n",
              "      <td>2</td>\n",
              "      <td>1</td>\n",
              "      <td>2</td>\n",
              "      <td>1</td>\n",
              "      <td>3</td>\n",
              "      <td>1</td>\n",
              "      <td>1</td>\n",
              "      <td>2</td>\n",
              "    </tr>\n",
              "    <tr>\n",
              "      <th>7</th>\n",
              "      <td>1033078</td>\n",
              "      <td>2</td>\n",
              "      <td>1</td>\n",
              "      <td>1</td>\n",
              "      <td>1</td>\n",
              "      <td>2</td>\n",
              "      <td>1</td>\n",
              "      <td>1</td>\n",
              "      <td>1</td>\n",
              "      <td>5</td>\n",
              "      <td>2</td>\n",
              "    </tr>\n",
              "    <tr>\n",
              "      <th>8</th>\n",
              "      <td>1033078</td>\n",
              "      <td>4</td>\n",
              "      <td>2</td>\n",
              "      <td>1</td>\n",
              "      <td>1</td>\n",
              "      <td>2</td>\n",
              "      <td>1</td>\n",
              "      <td>2</td>\n",
              "      <td>1</td>\n",
              "      <td>1</td>\n",
              "      <td>2</td>\n",
              "    </tr>\n",
              "    <tr>\n",
              "      <th>9</th>\n",
              "      <td>1035283</td>\n",
              "      <td>1</td>\n",
              "      <td>1</td>\n",
              "      <td>1</td>\n",
              "      <td>1</td>\n",
              "      <td>1</td>\n",
              "      <td>1</td>\n",
              "      <td>3</td>\n",
              "      <td>1</td>\n",
              "      <td>1</td>\n",
              "      <td>2</td>\n",
              "    </tr>\n",
              "  </tbody>\n",
              "</table>\n",
              "</div>"
            ],
            "text/plain": [
              "   1000025  5   1  1.1  1.2  2 1.3  3  1.4  1.5  2.1\n",
              "0  1002945  5   4    4    5  7  10  3    2    1    2\n",
              "1  1015425  3   1    1    1  2   2  3    1    1    2\n",
              "2  1016277  6   8    8    1  3   4  3    7    1    2\n",
              "3  1017023  4   1    1    3  2   1  3    1    1    2\n",
              "4  1017122  8  10   10    8  7  10  9    7    1    4\n",
              "5  1018099  1   1    1    1  2  10  3    1    1    2\n",
              "6  1018561  2   1    2    1  2   1  3    1    1    2\n",
              "7  1033078  2   1    1    1  2   1  1    1    5    2\n",
              "8  1033078  4   2    1    1  2   1  2    1    1    2\n",
              "9  1035283  1   1    1    1  1   1  3    1    1    2"
            ]
          },
          "metadata": {
            "tags": []
          },
          "execution_count": 16
        }
      ]
    },
    {
      "cell_type": "code",
      "metadata": {
        "id": "KRepl8CI8Zig",
        "colab": {
          "base_uri": "https://localhost:8080/",
          "height": 204
        },
        "outputId": "ecc3f5be-57f4-45ff-ec63-478cdad2c3de"
      },
      "source": [
        "data.tail()"
      ],
      "execution_count": null,
      "outputs": [
        {
          "output_type": "execute_result",
          "data": {
            "text/html": [
              "<div>\n",
              "<style scoped>\n",
              "    .dataframe tbody tr th:only-of-type {\n",
              "        vertical-align: middle;\n",
              "    }\n",
              "\n",
              "    .dataframe tbody tr th {\n",
              "        vertical-align: top;\n",
              "    }\n",
              "\n",
              "    .dataframe thead th {\n",
              "        text-align: right;\n",
              "    }\n",
              "</style>\n",
              "<table border=\"1\" class=\"dataframe\">\n",
              "  <thead>\n",
              "    <tr style=\"text-align: right;\">\n",
              "      <th></th>\n",
              "      <th>1000025</th>\n",
              "      <th>5</th>\n",
              "      <th>1</th>\n",
              "      <th>1.1</th>\n",
              "      <th>1.2</th>\n",
              "      <th>2</th>\n",
              "      <th>1.3</th>\n",
              "      <th>3</th>\n",
              "      <th>1.4</th>\n",
              "      <th>1.5</th>\n",
              "      <th>2.1</th>\n",
              "    </tr>\n",
              "  </thead>\n",
              "  <tbody>\n",
              "    <tr>\n",
              "      <th>693</th>\n",
              "      <td>776715</td>\n",
              "      <td>3</td>\n",
              "      <td>1</td>\n",
              "      <td>1</td>\n",
              "      <td>1</td>\n",
              "      <td>3</td>\n",
              "      <td>2</td>\n",
              "      <td>1</td>\n",
              "      <td>1</td>\n",
              "      <td>1</td>\n",
              "      <td>2</td>\n",
              "    </tr>\n",
              "    <tr>\n",
              "      <th>694</th>\n",
              "      <td>841769</td>\n",
              "      <td>2</td>\n",
              "      <td>1</td>\n",
              "      <td>1</td>\n",
              "      <td>1</td>\n",
              "      <td>2</td>\n",
              "      <td>1</td>\n",
              "      <td>1</td>\n",
              "      <td>1</td>\n",
              "      <td>1</td>\n",
              "      <td>2</td>\n",
              "    </tr>\n",
              "    <tr>\n",
              "      <th>695</th>\n",
              "      <td>888820</td>\n",
              "      <td>5</td>\n",
              "      <td>10</td>\n",
              "      <td>10</td>\n",
              "      <td>3</td>\n",
              "      <td>7</td>\n",
              "      <td>3</td>\n",
              "      <td>8</td>\n",
              "      <td>10</td>\n",
              "      <td>2</td>\n",
              "      <td>4</td>\n",
              "    </tr>\n",
              "    <tr>\n",
              "      <th>696</th>\n",
              "      <td>897471</td>\n",
              "      <td>4</td>\n",
              "      <td>8</td>\n",
              "      <td>6</td>\n",
              "      <td>4</td>\n",
              "      <td>3</td>\n",
              "      <td>4</td>\n",
              "      <td>10</td>\n",
              "      <td>6</td>\n",
              "      <td>1</td>\n",
              "      <td>4</td>\n",
              "    </tr>\n",
              "    <tr>\n",
              "      <th>697</th>\n",
              "      <td>897471</td>\n",
              "      <td>4</td>\n",
              "      <td>8</td>\n",
              "      <td>8</td>\n",
              "      <td>5</td>\n",
              "      <td>4</td>\n",
              "      <td>5</td>\n",
              "      <td>10</td>\n",
              "      <td>4</td>\n",
              "      <td>1</td>\n",
              "      <td>4</td>\n",
              "    </tr>\n",
              "  </tbody>\n",
              "</table>\n",
              "</div>"
            ],
            "text/plain": [
              "     1000025  5   1  1.1  1.2  2 1.3   3  1.4  1.5  2.1\n",
              "693   776715  3   1    1    1  3   2   1    1    1    2\n",
              "694   841769  2   1    1    1  2   1   1    1    1    2\n",
              "695   888820  5  10   10    3  7   3   8   10    2    4\n",
              "696   897471  4   8    6    4  3   4  10    6    1    4\n",
              "697   897471  4   8    8    5  4   5  10    4    1    4"
            ]
          },
          "metadata": {
            "tags": []
          },
          "execution_count": 15
        }
      ]
    },
    {
      "cell_type": "code",
      "metadata": {
        "id": "_Zh5HGvA8eFn",
        "colab": {
          "base_uri": "https://localhost:8080/",
          "height": 68
        },
        "outputId": "a1a733ff-49c7-44f4-f15f-798950501e10"
      },
      "source": [
        "data.columns"
      ],
      "execution_count": null,
      "outputs": [
        {
          "output_type": "execute_result",
          "data": {
            "text/plain": [
              "Index(['1000025', '5', '1', '1.1', '1.2', '2', '1.3', '3', '1.4', '1.5',\n",
              "       '2.1'],\n",
              "      dtype='object')"
            ]
          },
          "metadata": {
            "tags": []
          },
          "execution_count": 17
        }
      ]
    },
    {
      "cell_type": "code",
      "metadata": {
        "id": "KjMYoHmE8tMV"
      },
      "source": [
        "data.columns = ['Sample code number','Clump Thickness','Uniformity of Cell Size','Uniformity of Cell Shape','Marginal Adhesion','Single Epithelial Cell Size','Bare Nuclei','Bland Chromatin','Normal Nucleoli','Mitoses','class']"
      ],
      "execution_count": null,
      "outputs": []
    },
    {
      "cell_type": "code",
      "metadata": {
        "id": "cekqY7lA86mM",
        "colab": {
          "base_uri": "https://localhost:8080/",
          "height": 102
        },
        "outputId": "dc0ddce1-4b49-4828-cd74-7aba0fe5e1dd"
      },
      "source": [
        "data.columns"
      ],
      "execution_count": null,
      "outputs": [
        {
          "output_type": "execute_result",
          "data": {
            "text/plain": [
              "Index(['Sample code number', 'Clump Thickness', 'Uniformity of Cell Size',\n",
              "       'Uniformity of Cell Shape', 'Marginal Adhesion',\n",
              "       'Single Epithelial Cell Size', 'Bare Nuclei', 'Bland Chromatin',\n",
              "       'Normal Nucleoli', 'Mitoses', 'class'],\n",
              "      dtype='object')"
            ]
          },
          "metadata": {
            "tags": []
          },
          "execution_count": 19
        }
      ]
    },
    {
      "cell_type": "code",
      "metadata": {
        "id": "SVkNAxx388Jx",
        "colab": {
          "base_uri": "https://localhost:8080/",
          "height": 258
        },
        "outputId": "f2969256-23e3-4a7f-86be-3d86e6f29ef3"
      },
      "source": [
        "data.head()"
      ],
      "execution_count": null,
      "outputs": [
        {
          "output_type": "execute_result",
          "data": {
            "text/html": [
              "<div>\n",
              "<style scoped>\n",
              "    .dataframe tbody tr th:only-of-type {\n",
              "        vertical-align: middle;\n",
              "    }\n",
              "\n",
              "    .dataframe tbody tr th {\n",
              "        vertical-align: top;\n",
              "    }\n",
              "\n",
              "    .dataframe thead th {\n",
              "        text-align: right;\n",
              "    }\n",
              "</style>\n",
              "<table border=\"1\" class=\"dataframe\">\n",
              "  <thead>\n",
              "    <tr style=\"text-align: right;\">\n",
              "      <th></th>\n",
              "      <th>Sample code number</th>\n",
              "      <th>Clump Thickness</th>\n",
              "      <th>Uniformity of Cell Size</th>\n",
              "      <th>Uniformity of Cell Shape</th>\n",
              "      <th>Marginal Adhesion</th>\n",
              "      <th>Single Epithelial Cell Size</th>\n",
              "      <th>Bare Nuclei</th>\n",
              "      <th>Bland Chromatin</th>\n",
              "      <th>Normal Nucleoli</th>\n",
              "      <th>Mitoses</th>\n",
              "      <th>class</th>\n",
              "    </tr>\n",
              "  </thead>\n",
              "  <tbody>\n",
              "    <tr>\n",
              "      <th>0</th>\n",
              "      <td>1002945</td>\n",
              "      <td>5</td>\n",
              "      <td>4</td>\n",
              "      <td>4</td>\n",
              "      <td>5</td>\n",
              "      <td>7</td>\n",
              "      <td>10</td>\n",
              "      <td>3</td>\n",
              "      <td>2</td>\n",
              "      <td>1</td>\n",
              "      <td>2</td>\n",
              "    </tr>\n",
              "    <tr>\n",
              "      <th>1</th>\n",
              "      <td>1015425</td>\n",
              "      <td>3</td>\n",
              "      <td>1</td>\n",
              "      <td>1</td>\n",
              "      <td>1</td>\n",
              "      <td>2</td>\n",
              "      <td>2</td>\n",
              "      <td>3</td>\n",
              "      <td>1</td>\n",
              "      <td>1</td>\n",
              "      <td>2</td>\n",
              "    </tr>\n",
              "    <tr>\n",
              "      <th>2</th>\n",
              "      <td>1016277</td>\n",
              "      <td>6</td>\n",
              "      <td>8</td>\n",
              "      <td>8</td>\n",
              "      <td>1</td>\n",
              "      <td>3</td>\n",
              "      <td>4</td>\n",
              "      <td>3</td>\n",
              "      <td>7</td>\n",
              "      <td>1</td>\n",
              "      <td>2</td>\n",
              "    </tr>\n",
              "    <tr>\n",
              "      <th>3</th>\n",
              "      <td>1017023</td>\n",
              "      <td>4</td>\n",
              "      <td>1</td>\n",
              "      <td>1</td>\n",
              "      <td>3</td>\n",
              "      <td>2</td>\n",
              "      <td>1</td>\n",
              "      <td>3</td>\n",
              "      <td>1</td>\n",
              "      <td>1</td>\n",
              "      <td>2</td>\n",
              "    </tr>\n",
              "    <tr>\n",
              "      <th>4</th>\n",
              "      <td>1017122</td>\n",
              "      <td>8</td>\n",
              "      <td>10</td>\n",
              "      <td>10</td>\n",
              "      <td>8</td>\n",
              "      <td>7</td>\n",
              "      <td>10</td>\n",
              "      <td>9</td>\n",
              "      <td>7</td>\n",
              "      <td>1</td>\n",
              "      <td>4</td>\n",
              "    </tr>\n",
              "  </tbody>\n",
              "</table>\n",
              "</div>"
            ],
            "text/plain": [
              "   Sample code number  Clump Thickness  ...  Mitoses  class\n",
              "0             1002945                5  ...        1      2\n",
              "1             1015425                3  ...        1      2\n",
              "2             1016277                6  ...        1      2\n",
              "3             1017023                4  ...        1      2\n",
              "4             1017122                8  ...        1      4\n",
              "\n",
              "[5 rows x 11 columns]"
            ]
          },
          "metadata": {
            "tags": []
          },
          "execution_count": 20
        }
      ]
    },
    {
      "cell_type": "code",
      "metadata": {
        "id": "GDZzpZVP8-yW"
      },
      "source": [
        "data.to_csv(\"breast_cancer_srm.csv\")"
      ],
      "execution_count": null,
      "outputs": []
    },
    {
      "cell_type": "code",
      "metadata": {
        "id": "Z5Z0yexdBJN2"
      },
      "source": [
        ""
      ],
      "execution_count": null,
      "outputs": []
    },
    {
      "cell_type": "code",
      "metadata": {
        "id": "PxS0TPREBmp_"
      },
      "source": [
        "data = pd.read_csv(\"https://bit.ly/imdbratings\")"
      ],
      "execution_count": null,
      "outputs": []
    },
    {
      "cell_type": "code",
      "metadata": {
        "id": "70wGFYJ3BxwO",
        "colab": {
          "base_uri": "https://localhost:8080/",
          "height": 34
        },
        "outputId": "c4bffc8a-a182-4953-bc4a-2b3c04c04aed"
      },
      "source": [
        "data.shape"
      ],
      "execution_count": null,
      "outputs": [
        {
          "output_type": "execute_result",
          "data": {
            "text/plain": [
              "(979, 6)"
            ]
          },
          "metadata": {
            "tags": []
          },
          "execution_count": 25
        }
      ]
    },
    {
      "cell_type": "code",
      "metadata": {
        "id": "ZM6HeWdVBzaz",
        "colab": {
          "base_uri": "https://localhost:8080/",
          "height": 136
        },
        "outputId": "ae9d8d25-de65-480e-d66d-c01ab991073d"
      },
      "source": [
        "data.dtypes"
      ],
      "execution_count": null,
      "outputs": [
        {
          "output_type": "execute_result",
          "data": {
            "text/plain": [
              "star_rating       float64\n",
              "title              object\n",
              "content_rating     object\n",
              "genre              object\n",
              "duration            int64\n",
              "actors_list        object\n",
              "dtype: object"
            ]
          },
          "metadata": {
            "tags": []
          },
          "execution_count": 26
        }
      ]
    },
    {
      "cell_type": "code",
      "metadata": {
        "id": "fTkXl3fPB2dp",
        "colab": {
          "base_uri": "https://localhost:8080/",
          "height": 68
        },
        "outputId": "cc196197-7b6f-40c1-c168-d5ca1747132d"
      },
      "source": [
        "data.columns"
      ],
      "execution_count": null,
      "outputs": [
        {
          "output_type": "execute_result",
          "data": {
            "text/plain": [
              "Index(['star_rating', 'title', 'content_rating', 'genre', 'duration',\n",
              "       'actors_list'],\n",
              "      dtype='object')"
            ]
          },
          "metadata": {
            "tags": []
          },
          "execution_count": 27
        }
      ]
    },
    {
      "cell_type": "code",
      "metadata": {
        "id": "5LRDCTGoB5O5",
        "colab": {
          "base_uri": "https://localhost:8080/",
          "height": 34
        },
        "outputId": "b1e1c3da-62e7-43e4-e508-32f2b1188ed0"
      },
      "source": [
        "type(data)"
      ],
      "execution_count": null,
      "outputs": [
        {
          "output_type": "execute_result",
          "data": {
            "text/plain": [
              "pandas.core.frame.DataFrame"
            ]
          },
          "metadata": {
            "tags": []
          },
          "execution_count": 28
        }
      ]
    },
    {
      "cell_type": "code",
      "metadata": {
        "id": "bpCLYqkxCBUX",
        "colab": {
          "base_uri": "https://localhost:8080/",
          "height": 510
        },
        "outputId": "06659ef3-aab8-4235-8786-80bba7ceda37"
      },
      "source": [
        "data.head()"
      ],
      "execution_count": null,
      "outputs": [
        {
          "output_type": "execute_result",
          "data": {
            "text/html": [
              "<div>\n",
              "<style scoped>\n",
              "    .dataframe tbody tr th:only-of-type {\n",
              "        vertical-align: middle;\n",
              "    }\n",
              "\n",
              "    .dataframe tbody tr th {\n",
              "        vertical-align: top;\n",
              "    }\n",
              "\n",
              "    .dataframe thead th {\n",
              "        text-align: right;\n",
              "    }\n",
              "</style>\n",
              "<table border=\"1\" class=\"dataframe\">\n",
              "  <thead>\n",
              "    <tr style=\"text-align: right;\">\n",
              "      <th></th>\n",
              "      <th>star_rating</th>\n",
              "      <th>title</th>\n",
              "      <th>content_rating</th>\n",
              "      <th>genre</th>\n",
              "      <th>duration</th>\n",
              "      <th>actors_list</th>\n",
              "    </tr>\n",
              "  </thead>\n",
              "  <tbody>\n",
              "    <tr>\n",
              "      <th>0</th>\n",
              "      <td>9.3</td>\n",
              "      <td>The Shawshank Redemption</td>\n",
              "      <td>R</td>\n",
              "      <td>Crime</td>\n",
              "      <td>142</td>\n",
              "      <td>[u'Tim Robbins', u'Morgan Freeman', u'Bob Gunt...</td>\n",
              "    </tr>\n",
              "    <tr>\n",
              "      <th>1</th>\n",
              "      <td>9.2</td>\n",
              "      <td>The Godfather</td>\n",
              "      <td>R</td>\n",
              "      <td>Crime</td>\n",
              "      <td>175</td>\n",
              "      <td>[u'Marlon Brando', u'Al Pacino', u'James Caan']</td>\n",
              "    </tr>\n",
              "    <tr>\n",
              "      <th>2</th>\n",
              "      <td>9.1</td>\n",
              "      <td>The Godfather: Part II</td>\n",
              "      <td>R</td>\n",
              "      <td>Crime</td>\n",
              "      <td>200</td>\n",
              "      <td>[u'Al Pacino', u'Robert De Niro', u'Robert Duv...</td>\n",
              "    </tr>\n",
              "    <tr>\n",
              "      <th>3</th>\n",
              "      <td>9.0</td>\n",
              "      <td>The Dark Knight</td>\n",
              "      <td>PG-13</td>\n",
              "      <td>Action</td>\n",
              "      <td>152</td>\n",
              "      <td>[u'Christian Bale', u'Heath Ledger', u'Aaron E...</td>\n",
              "    </tr>\n",
              "    <tr>\n",
              "      <th>4</th>\n",
              "      <td>8.9</td>\n",
              "      <td>Pulp Fiction</td>\n",
              "      <td>R</td>\n",
              "      <td>Crime</td>\n",
              "      <td>154</td>\n",
              "      <td>[u'John Travolta', u'Uma Thurman', u'Samuel L....</td>\n",
              "    </tr>\n",
              "  </tbody>\n",
              "</table>\n",
              "</div>"
            ],
            "text/plain": [
              "   star_rating  ...                                        actors_list\n",
              "0          9.3  ...  [u'Tim Robbins', u'Morgan Freeman', u'Bob Gunt...\n",
              "1          9.2  ...    [u'Marlon Brando', u'Al Pacino', u'James Caan']\n",
              "2          9.1  ...  [u'Al Pacino', u'Robert De Niro', u'Robert Duv...\n",
              "3          9.0  ...  [u'Christian Bale', u'Heath Ledger', u'Aaron E...\n",
              "4          8.9  ...  [u'John Travolta', u'Uma Thurman', u'Samuel L....\n",
              "\n",
              "[5 rows x 6 columns]"
            ]
          },
          "metadata": {
            "tags": []
          },
          "execution_count": 29
        }
      ]
    },
    {
      "cell_type": "code",
      "metadata": {
        "id": "Kk6buMs1CKJV"
      },
      "source": [
        "data = pd.read_csv(\"https://bit.ly/imdbratings\",nrows=100,usecols=[1,3,4])"
      ],
      "execution_count": null,
      "outputs": []
    },
    {
      "cell_type": "code",
      "metadata": {
        "id": "cYIAKwzQC8I6",
        "colab": {
          "base_uri": "https://localhost:8080/",
          "height": 34
        },
        "outputId": "0f03d476-ba0c-41dd-e682-af3c01b9c800"
      },
      "source": [
        "data.shape"
      ],
      "execution_count": null,
      "outputs": [
        {
          "output_type": "execute_result",
          "data": {
            "text/plain": [
              "(100, 3)"
            ]
          },
          "metadata": {
            "tags": []
          },
          "execution_count": 31
        }
      ]
    },
    {
      "cell_type": "code",
      "metadata": {
        "id": "zciZhKchC9yA",
        "colab": {
          "base_uri": "https://localhost:8080/",
          "height": 34
        },
        "outputId": "9bea748c-8938-4a7d-e3a9-0e250783155c"
      },
      "source": [
        "data.columns"
      ],
      "execution_count": null,
      "outputs": [
        {
          "output_type": "execute_result",
          "data": {
            "text/plain": [
              "Index(['title', 'genre', 'duration'], dtype='object')"
            ]
          },
          "metadata": {
            "tags": []
          },
          "execution_count": 32
        }
      ]
    },
    {
      "cell_type": "code",
      "metadata": {
        "id": "q4MsM9UNDAL3"
      },
      "source": [
        "data = pd.read_csv(\"https://bit.ly/imdbratings\")"
      ],
      "execution_count": null,
      "outputs": []
    },
    {
      "cell_type": "code",
      "metadata": {
        "id": "KffnEwLQDSSV",
        "colab": {
          "base_uri": "https://localhost:8080/",
          "height": 510
        },
        "outputId": "ea5a322c-5940-4b53-de7d-4d2039c0a97c"
      },
      "source": [
        "data.head()"
      ],
      "execution_count": null,
      "outputs": [
        {
          "output_type": "execute_result",
          "data": {
            "text/html": [
              "<div>\n",
              "<style scoped>\n",
              "    .dataframe tbody tr th:only-of-type {\n",
              "        vertical-align: middle;\n",
              "    }\n",
              "\n",
              "    .dataframe tbody tr th {\n",
              "        vertical-align: top;\n",
              "    }\n",
              "\n",
              "    .dataframe thead th {\n",
              "        text-align: right;\n",
              "    }\n",
              "</style>\n",
              "<table border=\"1\" class=\"dataframe\">\n",
              "  <thead>\n",
              "    <tr style=\"text-align: right;\">\n",
              "      <th></th>\n",
              "      <th>star_rating</th>\n",
              "      <th>title</th>\n",
              "      <th>content_rating</th>\n",
              "      <th>genre</th>\n",
              "      <th>duration</th>\n",
              "      <th>actors_list</th>\n",
              "    </tr>\n",
              "  </thead>\n",
              "  <tbody>\n",
              "    <tr>\n",
              "      <th>0</th>\n",
              "      <td>9.3</td>\n",
              "      <td>The Shawshank Redemption</td>\n",
              "      <td>R</td>\n",
              "      <td>Crime</td>\n",
              "      <td>142</td>\n",
              "      <td>[u'Tim Robbins', u'Morgan Freeman', u'Bob Gunt...</td>\n",
              "    </tr>\n",
              "    <tr>\n",
              "      <th>1</th>\n",
              "      <td>9.2</td>\n",
              "      <td>The Godfather</td>\n",
              "      <td>R</td>\n",
              "      <td>Crime</td>\n",
              "      <td>175</td>\n",
              "      <td>[u'Marlon Brando', u'Al Pacino', u'James Caan']</td>\n",
              "    </tr>\n",
              "    <tr>\n",
              "      <th>2</th>\n",
              "      <td>9.1</td>\n",
              "      <td>The Godfather: Part II</td>\n",
              "      <td>R</td>\n",
              "      <td>Crime</td>\n",
              "      <td>200</td>\n",
              "      <td>[u'Al Pacino', u'Robert De Niro', u'Robert Duv...</td>\n",
              "    </tr>\n",
              "    <tr>\n",
              "      <th>3</th>\n",
              "      <td>9.0</td>\n",
              "      <td>The Dark Knight</td>\n",
              "      <td>PG-13</td>\n",
              "      <td>Action</td>\n",
              "      <td>152</td>\n",
              "      <td>[u'Christian Bale', u'Heath Ledger', u'Aaron E...</td>\n",
              "    </tr>\n",
              "    <tr>\n",
              "      <th>4</th>\n",
              "      <td>8.9</td>\n",
              "      <td>Pulp Fiction</td>\n",
              "      <td>R</td>\n",
              "      <td>Crime</td>\n",
              "      <td>154</td>\n",
              "      <td>[u'John Travolta', u'Uma Thurman', u'Samuel L....</td>\n",
              "    </tr>\n",
              "  </tbody>\n",
              "</table>\n",
              "</div>"
            ],
            "text/plain": [
              "   star_rating  ...                                        actors_list\n",
              "0          9.3  ...  [u'Tim Robbins', u'Morgan Freeman', u'Bob Gunt...\n",
              "1          9.2  ...    [u'Marlon Brando', u'Al Pacino', u'James Caan']\n",
              "2          9.1  ...  [u'Al Pacino', u'Robert De Niro', u'Robert Duv...\n",
              "3          9.0  ...  [u'Christian Bale', u'Heath Ledger', u'Aaron E...\n",
              "4          8.9  ...  [u'John Travolta', u'Uma Thurman', u'Samuel L....\n",
              "\n",
              "[5 rows x 6 columns]"
            ]
          },
          "metadata": {
            "tags": []
          },
          "execution_count": 34
        }
      ]
    },
    {
      "cell_type": "code",
      "metadata": {
        "id": "IwnHPiPmDUvl",
        "colab": {
          "base_uri": "https://localhost:8080/",
          "height": 68
        },
        "outputId": "9445f486-0a81-4ab0-864f-09f394ab4db2"
      },
      "source": [
        "data.columns"
      ],
      "execution_count": null,
      "outputs": [
        {
          "output_type": "execute_result",
          "data": {
            "text/plain": [
              "Index(['star_rating', 'title', 'content_rating', 'genre', 'duration',\n",
              "       'actors_list'],\n",
              "      dtype='object')"
            ]
          },
          "metadata": {
            "tags": []
          },
          "execution_count": 35
        }
      ]
    },
    {
      "cell_type": "code",
      "metadata": {
        "id": "u1KXskZ8DaTS",
        "colab": {
          "base_uri": "https://localhost:8080/",
          "height": 221
        },
        "outputId": "54ba6f51-aa7b-4f19-ed0f-10ca4d0dad66"
      },
      "source": [
        "data['duration']"
      ],
      "execution_count": null,
      "outputs": [
        {
          "output_type": "execute_result",
          "data": {
            "text/plain": [
              "0      142\n",
              "1      175\n",
              "2      200\n",
              "3      152\n",
              "4      154\n",
              "      ... \n",
              "974    116\n",
              "975    118\n",
              "976    138\n",
              "977    114\n",
              "978    126\n",
              "Name: duration, Length: 979, dtype: int64"
            ]
          },
          "metadata": {
            "tags": []
          },
          "execution_count": 36
        }
      ]
    },
    {
      "cell_type": "code",
      "metadata": {
        "id": "PX8eMELGDaXm",
        "colab": {
          "base_uri": "https://localhost:8080/",
          "height": 221
        },
        "outputId": "efa3c6eb-c1d2-4f29-d316-797b7a6f6e24"
      },
      "source": [
        "data.duration"
      ],
      "execution_count": null,
      "outputs": [
        {
          "output_type": "execute_result",
          "data": {
            "text/plain": [
              "0      142\n",
              "1      175\n",
              "2      200\n",
              "3      152\n",
              "4      154\n",
              "      ... \n",
              "974    116\n",
              "975    118\n",
              "976    138\n",
              "977    114\n",
              "978    126\n",
              "Name: duration, Length: 979, dtype: int64"
            ]
          },
          "metadata": {
            "tags": []
          },
          "execution_count": 37
        }
      ]
    },
    {
      "cell_type": "code",
      "metadata": {
        "id": "B7lcsJKPDYVH",
        "colab": {
          "base_uri": "https://localhost:8080/",
          "height": 1000
        },
        "outputId": "fff3fcd8-821e-4dd6-f377-7552a68c13b5"
      },
      "source": [
        "data[data.duration>200]"
      ],
      "execution_count": null,
      "outputs": [
        {
          "output_type": "execute_result",
          "data": {
            "text/html": [
              "<div>\n",
              "<style scoped>\n",
              "    .dataframe tbody tr th:only-of-type {\n",
              "        vertical-align: middle;\n",
              "    }\n",
              "\n",
              "    .dataframe tbody tr th {\n",
              "        vertical-align: top;\n",
              "    }\n",
              "\n",
              "    .dataframe thead th {\n",
              "        text-align: right;\n",
              "    }\n",
              "</style>\n",
              "<table border=\"1\" class=\"dataframe\">\n",
              "  <thead>\n",
              "    <tr style=\"text-align: right;\">\n",
              "      <th></th>\n",
              "      <th>star_rating</th>\n",
              "      <th>title</th>\n",
              "      <th>content_rating</th>\n",
              "      <th>genre</th>\n",
              "      <th>duration</th>\n",
              "      <th>actors_list</th>\n",
              "    </tr>\n",
              "  </thead>\n",
              "  <tbody>\n",
              "    <tr>\n",
              "      <th>7</th>\n",
              "      <td>8.9</td>\n",
              "      <td>The Lord of the Rings: The Return of the King</td>\n",
              "      <td>PG-13</td>\n",
              "      <td>Adventure</td>\n",
              "      <td>201</td>\n",
              "      <td>[u'Elijah Wood', u'Viggo Mortensen', u'Ian McK...</td>\n",
              "    </tr>\n",
              "    <tr>\n",
              "      <th>17</th>\n",
              "      <td>8.7</td>\n",
              "      <td>Seven Samurai</td>\n",
              "      <td>UNRATED</td>\n",
              "      <td>Drama</td>\n",
              "      <td>207</td>\n",
              "      <td>[u'Toshir\\xf4 Mifune', u'Takashi Shimura', u'K...</td>\n",
              "    </tr>\n",
              "    <tr>\n",
              "      <th>78</th>\n",
              "      <td>8.4</td>\n",
              "      <td>Once Upon a Time in America</td>\n",
              "      <td>R</td>\n",
              "      <td>Crime</td>\n",
              "      <td>229</td>\n",
              "      <td>[u'Robert De Niro', u'James Woods', u'Elizabet...</td>\n",
              "    </tr>\n",
              "    <tr>\n",
              "      <th>85</th>\n",
              "      <td>8.4</td>\n",
              "      <td>Lawrence of Arabia</td>\n",
              "      <td>PG</td>\n",
              "      <td>Adventure</td>\n",
              "      <td>216</td>\n",
              "      <td>[u\"Peter O'Toole\", u'Alec Guinness', u'Anthony...</td>\n",
              "    </tr>\n",
              "    <tr>\n",
              "      <th>142</th>\n",
              "      <td>8.3</td>\n",
              "      <td>Lagaan: Once Upon a Time in India</td>\n",
              "      <td>PG</td>\n",
              "      <td>Adventure</td>\n",
              "      <td>224</td>\n",
              "      <td>[u'Aamir Khan', u'Gracy Singh', u'Rachel Shell...</td>\n",
              "    </tr>\n",
              "    <tr>\n",
              "      <th>157</th>\n",
              "      <td>8.2</td>\n",
              "      <td>Gone with the Wind</td>\n",
              "      <td>G</td>\n",
              "      <td>Drama</td>\n",
              "      <td>238</td>\n",
              "      <td>[u'Clark Gable', u'Vivien Leigh', u'Thomas Mit...</td>\n",
              "    </tr>\n",
              "    <tr>\n",
              "      <th>204</th>\n",
              "      <td>8.1</td>\n",
              "      <td>Ben-Hur</td>\n",
              "      <td>G</td>\n",
              "      <td>Adventure</td>\n",
              "      <td>212</td>\n",
              "      <td>[u'Charlton Heston', u'Jack Hawkins', u'Stephe...</td>\n",
              "    </tr>\n",
              "    <tr>\n",
              "      <th>445</th>\n",
              "      <td>7.9</td>\n",
              "      <td>The Ten Commandments</td>\n",
              "      <td>APPROVED</td>\n",
              "      <td>Adventure</td>\n",
              "      <td>220</td>\n",
              "      <td>[u'Charlton Heston', u'Yul Brynner', u'Anne Ba...</td>\n",
              "    </tr>\n",
              "    <tr>\n",
              "      <th>476</th>\n",
              "      <td>7.8</td>\n",
              "      <td>Hamlet</td>\n",
              "      <td>PG-13</td>\n",
              "      <td>Drama</td>\n",
              "      <td>242</td>\n",
              "      <td>[u'Kenneth Branagh', u'Julie Christie', u'Dere...</td>\n",
              "    </tr>\n",
              "    <tr>\n",
              "      <th>630</th>\n",
              "      <td>7.7</td>\n",
              "      <td>Malcolm X</td>\n",
              "      <td>PG-13</td>\n",
              "      <td>Biography</td>\n",
              "      <td>202</td>\n",
              "      <td>[u'Denzel Washington', u'Angela Bassett', u'De...</td>\n",
              "    </tr>\n",
              "    <tr>\n",
              "      <th>767</th>\n",
              "      <td>7.6</td>\n",
              "      <td>It's a Mad, Mad, Mad, Mad World</td>\n",
              "      <td>APPROVED</td>\n",
              "      <td>Action</td>\n",
              "      <td>205</td>\n",
              "      <td>[u'Spencer Tracy', u'Milton Berle', u'Ethel Me...</td>\n",
              "    </tr>\n",
              "  </tbody>\n",
              "</table>\n",
              "</div>"
            ],
            "text/plain": [
              "     star_rating  ...                                        actors_list\n",
              "7            8.9  ...  [u'Elijah Wood', u'Viggo Mortensen', u'Ian McK...\n",
              "17           8.7  ...  [u'Toshir\\xf4 Mifune', u'Takashi Shimura', u'K...\n",
              "78           8.4  ...  [u'Robert De Niro', u'James Woods', u'Elizabet...\n",
              "85           8.4  ...  [u\"Peter O'Toole\", u'Alec Guinness', u'Anthony...\n",
              "142          8.3  ...  [u'Aamir Khan', u'Gracy Singh', u'Rachel Shell...\n",
              "157          8.2  ...  [u'Clark Gable', u'Vivien Leigh', u'Thomas Mit...\n",
              "204          8.1  ...  [u'Charlton Heston', u'Jack Hawkins', u'Stephe...\n",
              "445          7.9  ...  [u'Charlton Heston', u'Yul Brynner', u'Anne Ba...\n",
              "476          7.8  ...  [u'Kenneth Branagh', u'Julie Christie', u'Dere...\n",
              "630          7.7  ...  [u'Denzel Washington', u'Angela Bassett', u'De...\n",
              "767          7.6  ...  [u'Spencer Tracy', u'Milton Berle', u'Ethel Me...\n",
              "\n",
              "[11 rows x 6 columns]"
            ]
          },
          "metadata": {
            "tags": []
          },
          "execution_count": 38
        }
      ]
    },
    {
      "cell_type": "code",
      "metadata": {
        "id": "WjiQSeJ1D6u0",
        "colab": {
          "base_uri": "https://localhost:8080/",
          "height": 581
        },
        "outputId": "a4df7da2-3b03-4e7b-8fc5-a215322dab48"
      },
      "source": [
        "data[(data.duration>200) & (data.genre=='Adventure')]"
      ],
      "execution_count": null,
      "outputs": [
        {
          "output_type": "execute_result",
          "data": {
            "text/html": [
              "<div>\n",
              "<style scoped>\n",
              "    .dataframe tbody tr th:only-of-type {\n",
              "        vertical-align: middle;\n",
              "    }\n",
              "\n",
              "    .dataframe tbody tr th {\n",
              "        vertical-align: top;\n",
              "    }\n",
              "\n",
              "    .dataframe thead th {\n",
              "        text-align: right;\n",
              "    }\n",
              "</style>\n",
              "<table border=\"1\" class=\"dataframe\">\n",
              "  <thead>\n",
              "    <tr style=\"text-align: right;\">\n",
              "      <th></th>\n",
              "      <th>star_rating</th>\n",
              "      <th>title</th>\n",
              "      <th>content_rating</th>\n",
              "      <th>genre</th>\n",
              "      <th>duration</th>\n",
              "      <th>actors_list</th>\n",
              "    </tr>\n",
              "  </thead>\n",
              "  <tbody>\n",
              "    <tr>\n",
              "      <th>7</th>\n",
              "      <td>8.9</td>\n",
              "      <td>The Lord of the Rings: The Return of the King</td>\n",
              "      <td>PG-13</td>\n",
              "      <td>Adventure</td>\n",
              "      <td>201</td>\n",
              "      <td>[u'Elijah Wood', u'Viggo Mortensen', u'Ian McK...</td>\n",
              "    </tr>\n",
              "    <tr>\n",
              "      <th>85</th>\n",
              "      <td>8.4</td>\n",
              "      <td>Lawrence of Arabia</td>\n",
              "      <td>PG</td>\n",
              "      <td>Adventure</td>\n",
              "      <td>216</td>\n",
              "      <td>[u\"Peter O'Toole\", u'Alec Guinness', u'Anthony...</td>\n",
              "    </tr>\n",
              "    <tr>\n",
              "      <th>142</th>\n",
              "      <td>8.3</td>\n",
              "      <td>Lagaan: Once Upon a Time in India</td>\n",
              "      <td>PG</td>\n",
              "      <td>Adventure</td>\n",
              "      <td>224</td>\n",
              "      <td>[u'Aamir Khan', u'Gracy Singh', u'Rachel Shell...</td>\n",
              "    </tr>\n",
              "    <tr>\n",
              "      <th>204</th>\n",
              "      <td>8.1</td>\n",
              "      <td>Ben-Hur</td>\n",
              "      <td>G</td>\n",
              "      <td>Adventure</td>\n",
              "      <td>212</td>\n",
              "      <td>[u'Charlton Heston', u'Jack Hawkins', u'Stephe...</td>\n",
              "    </tr>\n",
              "    <tr>\n",
              "      <th>445</th>\n",
              "      <td>7.9</td>\n",
              "      <td>The Ten Commandments</td>\n",
              "      <td>APPROVED</td>\n",
              "      <td>Adventure</td>\n",
              "      <td>220</td>\n",
              "      <td>[u'Charlton Heston', u'Yul Brynner', u'Anne Ba...</td>\n",
              "    </tr>\n",
              "  </tbody>\n",
              "</table>\n",
              "</div>"
            ],
            "text/plain": [
              "     star_rating  ...                                        actors_list\n",
              "7            8.9  ...  [u'Elijah Wood', u'Viggo Mortensen', u'Ian McK...\n",
              "85           8.4  ...  [u\"Peter O'Toole\", u'Alec Guinness', u'Anthony...\n",
              "142          8.3  ...  [u'Aamir Khan', u'Gracy Singh', u'Rachel Shell...\n",
              "204          8.1  ...  [u'Charlton Heston', u'Jack Hawkins', u'Stephe...\n",
              "445          7.9  ...  [u'Charlton Heston', u'Yul Brynner', u'Anne Ba...\n",
              "\n",
              "[5 rows x 6 columns]"
            ]
          },
          "metadata": {
            "tags": []
          },
          "execution_count": 44
        }
      ]
    },
    {
      "cell_type": "code",
      "metadata": {
        "id": "NAn1cqanESMc",
        "colab": {
          "base_uri": "https://localhost:8080/",
          "height": 680
        },
        "outputId": "34542684-e9fd-4c8a-a90f-8cbef51df8ca"
      },
      "source": [
        "data[(data.duration>200) & ((data.genre=='Adventure')|(data.genre=='Crime'))]"
      ],
      "execution_count": null,
      "outputs": [
        {
          "output_type": "execute_result",
          "data": {
            "text/html": [
              "<div>\n",
              "<style scoped>\n",
              "    .dataframe tbody tr th:only-of-type {\n",
              "        vertical-align: middle;\n",
              "    }\n",
              "\n",
              "    .dataframe tbody tr th {\n",
              "        vertical-align: top;\n",
              "    }\n",
              "\n",
              "    .dataframe thead th {\n",
              "        text-align: right;\n",
              "    }\n",
              "</style>\n",
              "<table border=\"1\" class=\"dataframe\">\n",
              "  <thead>\n",
              "    <tr style=\"text-align: right;\">\n",
              "      <th></th>\n",
              "      <th>star_rating</th>\n",
              "      <th>title</th>\n",
              "      <th>content_rating</th>\n",
              "      <th>genre</th>\n",
              "      <th>duration</th>\n",
              "      <th>actors_list</th>\n",
              "    </tr>\n",
              "  </thead>\n",
              "  <tbody>\n",
              "    <tr>\n",
              "      <th>7</th>\n",
              "      <td>8.9</td>\n",
              "      <td>The Lord of the Rings: The Return of the King</td>\n",
              "      <td>PG-13</td>\n",
              "      <td>Adventure</td>\n",
              "      <td>201</td>\n",
              "      <td>[u'Elijah Wood', u'Viggo Mortensen', u'Ian McK...</td>\n",
              "    </tr>\n",
              "    <tr>\n",
              "      <th>78</th>\n",
              "      <td>8.4</td>\n",
              "      <td>Once Upon a Time in America</td>\n",
              "      <td>R</td>\n",
              "      <td>Crime</td>\n",
              "      <td>229</td>\n",
              "      <td>[u'Robert De Niro', u'James Woods', u'Elizabet...</td>\n",
              "    </tr>\n",
              "    <tr>\n",
              "      <th>85</th>\n",
              "      <td>8.4</td>\n",
              "      <td>Lawrence of Arabia</td>\n",
              "      <td>PG</td>\n",
              "      <td>Adventure</td>\n",
              "      <td>216</td>\n",
              "      <td>[u\"Peter O'Toole\", u'Alec Guinness', u'Anthony...</td>\n",
              "    </tr>\n",
              "    <tr>\n",
              "      <th>142</th>\n",
              "      <td>8.3</td>\n",
              "      <td>Lagaan: Once Upon a Time in India</td>\n",
              "      <td>PG</td>\n",
              "      <td>Adventure</td>\n",
              "      <td>224</td>\n",
              "      <td>[u'Aamir Khan', u'Gracy Singh', u'Rachel Shell...</td>\n",
              "    </tr>\n",
              "    <tr>\n",
              "      <th>204</th>\n",
              "      <td>8.1</td>\n",
              "      <td>Ben-Hur</td>\n",
              "      <td>G</td>\n",
              "      <td>Adventure</td>\n",
              "      <td>212</td>\n",
              "      <td>[u'Charlton Heston', u'Jack Hawkins', u'Stephe...</td>\n",
              "    </tr>\n",
              "    <tr>\n",
              "      <th>445</th>\n",
              "      <td>7.9</td>\n",
              "      <td>The Ten Commandments</td>\n",
              "      <td>APPROVED</td>\n",
              "      <td>Adventure</td>\n",
              "      <td>220</td>\n",
              "      <td>[u'Charlton Heston', u'Yul Brynner', u'Anne Ba...</td>\n",
              "    </tr>\n",
              "  </tbody>\n",
              "</table>\n",
              "</div>"
            ],
            "text/plain": [
              "     star_rating  ...                                        actors_list\n",
              "7            8.9  ...  [u'Elijah Wood', u'Viggo Mortensen', u'Ian McK...\n",
              "78           8.4  ...  [u'Robert De Niro', u'James Woods', u'Elizabet...\n",
              "85           8.4  ...  [u\"Peter O'Toole\", u'Alec Guinness', u'Anthony...\n",
              "142          8.3  ...  [u'Aamir Khan', u'Gracy Singh', u'Rachel Shell...\n",
              "204          8.1  ...  [u'Charlton Heston', u'Jack Hawkins', u'Stephe...\n",
              "445          7.9  ...  [u'Charlton Heston', u'Yul Brynner', u'Anne Ba...\n",
              "\n",
              "[6 rows x 6 columns]"
            ]
          },
          "metadata": {
            "tags": []
          },
          "execution_count": 46
        }
      ]
    },
    {
      "cell_type": "code",
      "metadata": {
        "id": "aMnv3XbJE5_Y",
        "colab": {
          "base_uri": "https://localhost:8080/",
          "height": 779
        },
        "outputId": "b576c4a0-bec4-4539-97b7-0c436ec39e59"
      },
      "source": [
        "data[(data.duration>200) & (data.genre.isin(['Crime','Adventure','Action']))]"
      ],
      "execution_count": null,
      "outputs": [
        {
          "output_type": "execute_result",
          "data": {
            "text/html": [
              "<div>\n",
              "<style scoped>\n",
              "    .dataframe tbody tr th:only-of-type {\n",
              "        vertical-align: middle;\n",
              "    }\n",
              "\n",
              "    .dataframe tbody tr th {\n",
              "        vertical-align: top;\n",
              "    }\n",
              "\n",
              "    .dataframe thead th {\n",
              "        text-align: right;\n",
              "    }\n",
              "</style>\n",
              "<table border=\"1\" class=\"dataframe\">\n",
              "  <thead>\n",
              "    <tr style=\"text-align: right;\">\n",
              "      <th></th>\n",
              "      <th>star_rating</th>\n",
              "      <th>title</th>\n",
              "      <th>content_rating</th>\n",
              "      <th>genre</th>\n",
              "      <th>duration</th>\n",
              "      <th>actors_list</th>\n",
              "    </tr>\n",
              "  </thead>\n",
              "  <tbody>\n",
              "    <tr>\n",
              "      <th>7</th>\n",
              "      <td>8.9</td>\n",
              "      <td>The Lord of the Rings: The Return of the King</td>\n",
              "      <td>PG-13</td>\n",
              "      <td>Adventure</td>\n",
              "      <td>201</td>\n",
              "      <td>[u'Elijah Wood', u'Viggo Mortensen', u'Ian McK...</td>\n",
              "    </tr>\n",
              "    <tr>\n",
              "      <th>78</th>\n",
              "      <td>8.4</td>\n",
              "      <td>Once Upon a Time in America</td>\n",
              "      <td>R</td>\n",
              "      <td>Crime</td>\n",
              "      <td>229</td>\n",
              "      <td>[u'Robert De Niro', u'James Woods', u'Elizabet...</td>\n",
              "    </tr>\n",
              "    <tr>\n",
              "      <th>85</th>\n",
              "      <td>8.4</td>\n",
              "      <td>Lawrence of Arabia</td>\n",
              "      <td>PG</td>\n",
              "      <td>Adventure</td>\n",
              "      <td>216</td>\n",
              "      <td>[u\"Peter O'Toole\", u'Alec Guinness', u'Anthony...</td>\n",
              "    </tr>\n",
              "    <tr>\n",
              "      <th>142</th>\n",
              "      <td>8.3</td>\n",
              "      <td>Lagaan: Once Upon a Time in India</td>\n",
              "      <td>PG</td>\n",
              "      <td>Adventure</td>\n",
              "      <td>224</td>\n",
              "      <td>[u'Aamir Khan', u'Gracy Singh', u'Rachel Shell...</td>\n",
              "    </tr>\n",
              "    <tr>\n",
              "      <th>204</th>\n",
              "      <td>8.1</td>\n",
              "      <td>Ben-Hur</td>\n",
              "      <td>G</td>\n",
              "      <td>Adventure</td>\n",
              "      <td>212</td>\n",
              "      <td>[u'Charlton Heston', u'Jack Hawkins', u'Stephe...</td>\n",
              "    </tr>\n",
              "    <tr>\n",
              "      <th>445</th>\n",
              "      <td>7.9</td>\n",
              "      <td>The Ten Commandments</td>\n",
              "      <td>APPROVED</td>\n",
              "      <td>Adventure</td>\n",
              "      <td>220</td>\n",
              "      <td>[u'Charlton Heston', u'Yul Brynner', u'Anne Ba...</td>\n",
              "    </tr>\n",
              "    <tr>\n",
              "      <th>767</th>\n",
              "      <td>7.6</td>\n",
              "      <td>It's a Mad, Mad, Mad, Mad World</td>\n",
              "      <td>APPROVED</td>\n",
              "      <td>Action</td>\n",
              "      <td>205</td>\n",
              "      <td>[u'Spencer Tracy', u'Milton Berle', u'Ethel Me...</td>\n",
              "    </tr>\n",
              "  </tbody>\n",
              "</table>\n",
              "</div>"
            ],
            "text/plain": [
              "     star_rating  ...                                        actors_list\n",
              "7            8.9  ...  [u'Elijah Wood', u'Viggo Mortensen', u'Ian McK...\n",
              "78           8.4  ...  [u'Robert De Niro', u'James Woods', u'Elizabet...\n",
              "85           8.4  ...  [u\"Peter O'Toole\", u'Alec Guinness', u'Anthony...\n",
              "142          8.3  ...  [u'Aamir Khan', u'Gracy Singh', u'Rachel Shell...\n",
              "204          8.1  ...  [u'Charlton Heston', u'Jack Hawkins', u'Stephe...\n",
              "445          7.9  ...  [u'Charlton Heston', u'Yul Brynner', u'Anne Ba...\n",
              "767          7.6  ...  [u'Spencer Tracy', u'Milton Berle', u'Ethel Me...\n",
              "\n",
              "[7 rows x 6 columns]"
            ]
          },
          "metadata": {
            "tags": []
          },
          "execution_count": 47
        }
      ]
    },
    {
      "cell_type": "code",
      "metadata": {
        "id": "DhUvbeftFXYh",
        "colab": {
          "base_uri": "https://localhost:8080/",
          "height": 68
        },
        "outputId": "ae92b6a4-e155-439f-ad5d-6e76b535d7b4"
      },
      "source": [
        "data.genre.unique()"
      ],
      "execution_count": null,
      "outputs": [
        {
          "output_type": "execute_result",
          "data": {
            "text/plain": [
              "array(['Crime', 'Action', 'Drama', 'Western', 'Adventure', 'Biography',\n",
              "       'Comedy', 'Animation', 'Mystery', 'Horror', 'Film-Noir', 'Sci-Fi',\n",
              "       'History', 'Thriller', 'Family', 'Fantasy'], dtype=object)"
            ]
          },
          "metadata": {
            "tags": []
          },
          "execution_count": 50
        }
      ]
    },
    {
      "cell_type": "code",
      "metadata": {
        "id": "9PtXqMn4FgNa",
        "colab": {
          "base_uri": "https://localhost:8080/",
          "height": 306
        },
        "outputId": "e267319d-f53b-49e4-9f7d-6ba405c5409b"
      },
      "source": [
        "data.genre.value_counts()"
      ],
      "execution_count": null,
      "outputs": [
        {
          "output_type": "execute_result",
          "data": {
            "text/plain": [
              "Drama        278\n",
              "Comedy       156\n",
              "Action       136\n",
              "Crime        124\n",
              "Biography     77\n",
              "Adventure     75\n",
              "Animation     62\n",
              "Horror        29\n",
              "Mystery       16\n",
              "Western        9\n",
              "Sci-Fi         5\n",
              "Thriller       5\n",
              "Film-Noir      3\n",
              "Family         2\n",
              "History        1\n",
              "Fantasy        1\n",
              "Name: genre, dtype: int64"
            ]
          },
          "metadata": {
            "tags": []
          },
          "execution_count": 51
        }
      ]
    },
    {
      "cell_type": "code",
      "metadata": {
        "id": "VjtIPx9WF0lw",
        "colab": {
          "base_uri": "https://localhost:8080/",
          "height": 34
        },
        "outputId": "7f9068db-b922-4bbe-b876-97f9365ccd02"
      },
      "source": [
        "data.star_rating.max(),data.star_rating.min(),data.star_rating.mean()"
      ],
      "execution_count": null,
      "outputs": [
        {
          "output_type": "execute_result",
          "data": {
            "text/plain": [
              "(9.3, 7.4, 7.8897854954034985)"
            ]
          },
          "metadata": {
            "tags": []
          },
          "execution_count": 54
        }
      ]
    },
    {
      "cell_type": "code",
      "metadata": {
        "id": "kn6CoBZCGFX4",
        "colab": {
          "base_uri": "https://localhost:8080/",
          "height": 119
        },
        "outputId": "98bbdcf8-dcdc-426c-91b6-36e17555c67b"
      },
      "source": [
        "data.star_rating.agg(['min','max','mean','count','sum'])"
      ],
      "execution_count": null,
      "outputs": [
        {
          "output_type": "execute_result",
          "data": {
            "text/plain": [
              "min         7.400000\n",
              "max         9.300000\n",
              "mean        7.889785\n",
              "count     979.000000\n",
              "sum      7724.100000\n",
              "Name: star_rating, dtype: float64"
            ]
          },
          "metadata": {
            "tags": []
          },
          "execution_count": 55
        }
      ]
    },
    {
      "cell_type": "code",
      "metadata": {
        "id": "KQg8iCSiGa9q",
        "colab": {
          "base_uri": "https://localhost:8080/",
          "height": 170
        },
        "outputId": "102e1c65-e1d6-4492-8b94-27a529d6bead"
      },
      "source": [
        "data.star_rating.describe()"
      ],
      "execution_count": null,
      "outputs": [
        {
          "output_type": "execute_result",
          "data": {
            "text/plain": [
              "count    979.000000\n",
              "mean       7.889785\n",
              "std        0.336069\n",
              "min        7.400000\n",
              "25%        7.600000\n",
              "50%        7.800000\n",
              "75%        8.100000\n",
              "max        9.300000\n",
              "Name: star_rating, dtype: float64"
            ]
          },
          "metadata": {
            "tags": []
          },
          "execution_count": 56
        }
      ]
    },
    {
      "cell_type": "code",
      "metadata": {
        "id": "y95nKS7aGi2_",
        "colab": {
          "base_uri": "https://localhost:8080/",
          "height": 838
        },
        "outputId": "299d655c-1837-451c-85e1-100ef1add45a"
      },
      "source": [
        "data[data.actors_list.str.contains('Khan')]"
      ],
      "execution_count": null,
      "outputs": [
        {
          "output_type": "execute_result",
          "data": {
            "text/html": [
              "<div>\n",
              "<style scoped>\n",
              "    .dataframe tbody tr th:only-of-type {\n",
              "        vertical-align: middle;\n",
              "    }\n",
              "\n",
              "    .dataframe tbody tr th {\n",
              "        vertical-align: top;\n",
              "    }\n",
              "\n",
              "    .dataframe thead th {\n",
              "        text-align: right;\n",
              "    }\n",
              "</style>\n",
              "<table border=\"1\" class=\"dataframe\">\n",
              "  <thead>\n",
              "    <tr style=\"text-align: right;\">\n",
              "      <th></th>\n",
              "      <th>star_rating</th>\n",
              "      <th>title</th>\n",
              "      <th>content_rating</th>\n",
              "      <th>genre</th>\n",
              "      <th>duration</th>\n",
              "      <th>actors_list</th>\n",
              "    </tr>\n",
              "  </thead>\n",
              "  <tbody>\n",
              "    <tr>\n",
              "      <th>47</th>\n",
              "      <td>8.5</td>\n",
              "      <td>Taare Zameen Par</td>\n",
              "      <td>PG</td>\n",
              "      <td>Drama</td>\n",
              "      <td>165</td>\n",
              "      <td>[u'Darsheel Safary', u'Aamir Khan', u'Tanay Ch...</td>\n",
              "    </tr>\n",
              "    <tr>\n",
              "      <th>60</th>\n",
              "      <td>8.5</td>\n",
              "      <td>3 Idiots</td>\n",
              "      <td>PG-13</td>\n",
              "      <td>Comedy</td>\n",
              "      <td>170</td>\n",
              "      <td>[u'Aamir Khan', u'Madhavan', u'Mona Singh']</td>\n",
              "    </tr>\n",
              "    <tr>\n",
              "      <th>72</th>\n",
              "      <td>8.4</td>\n",
              "      <td>Rang De Basanti</td>\n",
              "      <td>NOT RATED</td>\n",
              "      <td>Drama</td>\n",
              "      <td>157</td>\n",
              "      <td>[u'Aamir Khan', u'Soha Ali Khan', u'Siddharth']</td>\n",
              "    </tr>\n",
              "    <tr>\n",
              "      <th>89</th>\n",
              "      <td>8.4</td>\n",
              "      <td>Swades</td>\n",
              "      <td>NOT RATED</td>\n",
              "      <td>Drama</td>\n",
              "      <td>189</td>\n",
              "      <td>[u'Shah Rukh Khan', u'Gayatri Joshi', u'Kishor...</td>\n",
              "    </tr>\n",
              "    <tr>\n",
              "      <th>93</th>\n",
              "      <td>8.4</td>\n",
              "      <td>Dilwale Dulhania Le Jayenge</td>\n",
              "      <td>NOT RATED</td>\n",
              "      <td>Comedy</td>\n",
              "      <td>181</td>\n",
              "      <td>[u'Shah Rukh Khan', u'Kajol', u'Amrish Puri']</td>\n",
              "    </tr>\n",
              "    <tr>\n",
              "      <th>109</th>\n",
              "      <td>8.3</td>\n",
              "      <td>Dil Chahta Hai</td>\n",
              "      <td>NOT RATED</td>\n",
              "      <td>Comedy</td>\n",
              "      <td>183</td>\n",
              "      <td>[u'Aamir Khan', u'Saif Ali Khan', u'Akshaye Kh...</td>\n",
              "    </tr>\n",
              "    <tr>\n",
              "      <th>142</th>\n",
              "      <td>8.3</td>\n",
              "      <td>Lagaan: Once Upon a Time in India</td>\n",
              "      <td>PG</td>\n",
              "      <td>Adventure</td>\n",
              "      <td>224</td>\n",
              "      <td>[u'Aamir Khan', u'Gracy Singh', u'Rachel Shell...</td>\n",
              "    </tr>\n",
              "    <tr>\n",
              "      <th>336</th>\n",
              "      <td>8.0</td>\n",
              "      <td>Life of Pi</td>\n",
              "      <td>PG</td>\n",
              "      <td>Adventure</td>\n",
              "      <td>127</td>\n",
              "      <td>[u'Suraj Sharma', u'Irrfan Khan', u'Adil Hussa...</td>\n",
              "    </tr>\n",
              "    <tr>\n",
              "      <th>373</th>\n",
              "      <td>8.0</td>\n",
              "      <td>My Name Is Khan</td>\n",
              "      <td>PG-13</td>\n",
              "      <td>Drama</td>\n",
              "      <td>165</td>\n",
              "      <td>[u'Shah Rukh Khan', u'Kajol', u'Sheetal Menon']</td>\n",
              "    </tr>\n",
              "    <tr>\n",
              "      <th>718</th>\n",
              "      <td>7.6</td>\n",
              "      <td>The Kite Runner</td>\n",
              "      <td>PG-13</td>\n",
              "      <td>Drama</td>\n",
              "      <td>128</td>\n",
              "      <td>[u'Khalid Abdalla', u'Ahmad Khan Mahmoodzada',...</td>\n",
              "    </tr>\n",
              "  </tbody>\n",
              "</table>\n",
              "</div>"
            ],
            "text/plain": [
              "     star_rating  ...                                        actors_list\n",
              "47           8.5  ...  [u'Darsheel Safary', u'Aamir Khan', u'Tanay Ch...\n",
              "60           8.5  ...        [u'Aamir Khan', u'Madhavan', u'Mona Singh']\n",
              "72           8.4  ...    [u'Aamir Khan', u'Soha Ali Khan', u'Siddharth']\n",
              "89           8.4  ...  [u'Shah Rukh Khan', u'Gayatri Joshi', u'Kishor...\n",
              "93           8.4  ...      [u'Shah Rukh Khan', u'Kajol', u'Amrish Puri']\n",
              "109          8.3  ...  [u'Aamir Khan', u'Saif Ali Khan', u'Akshaye Kh...\n",
              "142          8.3  ...  [u'Aamir Khan', u'Gracy Singh', u'Rachel Shell...\n",
              "336          8.0  ...  [u'Suraj Sharma', u'Irrfan Khan', u'Adil Hussa...\n",
              "373          8.0  ...    [u'Shah Rukh Khan', u'Kajol', u'Sheetal Menon']\n",
              "718          7.6  ...  [u'Khalid Abdalla', u'Ahmad Khan Mahmoodzada',...\n",
              "\n",
              "[10 rows x 6 columns]"
            ]
          },
          "metadata": {
            "tags": []
          },
          "execution_count": 58
        }
      ]
    },
    {
      "cell_type": "code",
      "metadata": {
        "id": "4oCQMC8jGtjH",
        "colab": {
          "base_uri": "https://localhost:8080/",
          "height": 148
        },
        "outputId": "24baa186-8c76-44b0-a88c-35ed41ac12a8"
      },
      "source": [
        "data[data.star_rating==data.star_rating.max()]"
      ],
      "execution_count": null,
      "outputs": [
        {
          "output_type": "execute_result",
          "data": {
            "text/html": [
              "<div>\n",
              "<style scoped>\n",
              "    .dataframe tbody tr th:only-of-type {\n",
              "        vertical-align: middle;\n",
              "    }\n",
              "\n",
              "    .dataframe tbody tr th {\n",
              "        vertical-align: top;\n",
              "    }\n",
              "\n",
              "    .dataframe thead th {\n",
              "        text-align: right;\n",
              "    }\n",
              "</style>\n",
              "<table border=\"1\" class=\"dataframe\">\n",
              "  <thead>\n",
              "    <tr style=\"text-align: right;\">\n",
              "      <th></th>\n",
              "      <th>star_rating</th>\n",
              "      <th>title</th>\n",
              "      <th>content_rating</th>\n",
              "      <th>genre</th>\n",
              "      <th>duration</th>\n",
              "      <th>actors_list</th>\n",
              "    </tr>\n",
              "  </thead>\n",
              "  <tbody>\n",
              "    <tr>\n",
              "      <th>0</th>\n",
              "      <td>9.3</td>\n",
              "      <td>The Shawshank Redemption</td>\n",
              "      <td>R</td>\n",
              "      <td>Crime</td>\n",
              "      <td>142</td>\n",
              "      <td>[u'Tim Robbins', u'Morgan Freeman', u'Bob Gunt...</td>\n",
              "    </tr>\n",
              "  </tbody>\n",
              "</table>\n",
              "</div>"
            ],
            "text/plain": [
              "   star_rating  ...                                        actors_list\n",
              "0          9.3  ...  [u'Tim Robbins', u'Morgan Freeman', u'Bob Gunt...\n",
              "\n",
              "[1 rows x 6 columns]"
            ]
          },
          "metadata": {
            "tags": []
          },
          "execution_count": 60
        }
      ]
    },
    {
      "cell_type": "code",
      "metadata": {
        "id": "miaoNvUPHJy7",
        "colab": {
          "base_uri": "https://localhost:8080/",
          "height": 114
        },
        "outputId": "46ebf656-45ba-47c8-a9aa-51cd58372fe5"
      },
      "source": [
        "data[data.actors_list.str.contains('Kapoor')]"
      ],
      "execution_count": null,
      "outputs": [
        {
          "output_type": "execute_result",
          "data": {
            "text/html": [
              "<div>\n",
              "<style scoped>\n",
              "    .dataframe tbody tr th:only-of-type {\n",
              "        vertical-align: middle;\n",
              "    }\n",
              "\n",
              "    .dataframe tbody tr th {\n",
              "        vertical-align: top;\n",
              "    }\n",
              "\n",
              "    .dataframe thead th {\n",
              "        text-align: right;\n",
              "    }\n",
              "</style>\n",
              "<table border=\"1\" class=\"dataframe\">\n",
              "  <thead>\n",
              "    <tr style=\"text-align: right;\">\n",
              "      <th></th>\n",
              "      <th>star_rating</th>\n",
              "      <th>title</th>\n",
              "      <th>content_rating</th>\n",
              "      <th>genre</th>\n",
              "      <th>duration</th>\n",
              "      <th>actors_list</th>\n",
              "    </tr>\n",
              "  </thead>\n",
              "  <tbody>\n",
              "    <tr>\n",
              "      <th>133</th>\n",
              "      <td>8.3</td>\n",
              "      <td>Barfi!</td>\n",
              "      <td>NOT RATED</td>\n",
              "      <td>Adventure</td>\n",
              "      <td>151</td>\n",
              "      <td>[u'Ranbir Kapoor', u'Priyanka Chopra', u'Ileana']</td>\n",
              "    </tr>\n",
              "  </tbody>\n",
              "</table>\n",
              "</div>"
            ],
            "text/plain": [
              "     star_rating  ...                                        actors_list\n",
              "133          8.3  ...  [u'Ranbir Kapoor', u'Priyanka Chopra', u'Ileana']\n",
              "\n",
              "[1 rows x 6 columns]"
            ]
          },
          "metadata": {
            "tags": []
          },
          "execution_count": 63
        }
      ]
    },
    {
      "cell_type": "code",
      "metadata": {
        "id": "bSbKmZaCHiak"
      },
      "source": [
        "data = pd.read_csv(\"https://bit.ly/drinksbycountry\")"
      ],
      "execution_count": null,
      "outputs": []
    },
    {
      "cell_type": "code",
      "metadata": {
        "id": "PDzFezOKH43x",
        "colab": {
          "base_uri": "https://localhost:8080/",
          "height": 34
        },
        "outputId": "34203a36-d469-4ce3-f708-6479c752d987"
      },
      "source": [
        "data.shape"
      ],
      "execution_count": null,
      "outputs": [
        {
          "output_type": "execute_result",
          "data": {
            "text/plain": [
              "(193, 6)"
            ]
          },
          "metadata": {
            "tags": []
          },
          "execution_count": 65
        }
      ]
    },
    {
      "cell_type": "code",
      "metadata": {
        "id": "kp-NNtRLH6MY",
        "colab": {
          "base_uri": "https://localhost:8080/",
          "height": 136
        },
        "outputId": "2cc3b0c3-eee4-4cbe-fdb8-5d8b3acaeead"
      },
      "source": [
        "data.dtypes"
      ],
      "execution_count": null,
      "outputs": [
        {
          "output_type": "execute_result",
          "data": {
            "text/plain": [
              "country                          object\n",
              "beer_servings                     int64\n",
              "spirit_servings                   int64\n",
              "wine_servings                     int64\n",
              "total_litres_of_pure_alcohol    float64\n",
              "continent                        object\n",
              "dtype: object"
            ]
          },
          "metadata": {
            "tags": []
          },
          "execution_count": 67
        }
      ]
    },
    {
      "cell_type": "code",
      "metadata": {
        "id": "LPTyJOAhH86H",
        "colab": {
          "base_uri": "https://localhost:8080/",
          "height": 68
        },
        "outputId": "f866a98c-0166-4227-eb29-1591d5770d2a"
      },
      "source": [
        "data.columns"
      ],
      "execution_count": null,
      "outputs": [
        {
          "output_type": "execute_result",
          "data": {
            "text/plain": [
              "Index(['country', 'beer_servings', 'spirit_servings', 'wine_servings',\n",
              "       'total_litres_of_pure_alcohol', 'continent'],\n",
              "      dtype='object')"
            ]
          },
          "metadata": {
            "tags": []
          },
          "execution_count": 68
        }
      ]
    },
    {
      "cell_type": "code",
      "metadata": {
        "id": "J-yitTFlIBdJ",
        "colab": {
          "base_uri": "https://localhost:8080/",
          "height": 224
        },
        "outputId": "30fed078-d0cc-43cf-cb09-f36fb1f07800"
      },
      "source": [
        "data.head()"
      ],
      "execution_count": null,
      "outputs": [
        {
          "output_type": "execute_result",
          "data": {
            "text/html": [
              "<div>\n",
              "<style scoped>\n",
              "    .dataframe tbody tr th:only-of-type {\n",
              "        vertical-align: middle;\n",
              "    }\n",
              "\n",
              "    .dataframe tbody tr th {\n",
              "        vertical-align: top;\n",
              "    }\n",
              "\n",
              "    .dataframe thead th {\n",
              "        text-align: right;\n",
              "    }\n",
              "</style>\n",
              "<table border=\"1\" class=\"dataframe\">\n",
              "  <thead>\n",
              "    <tr style=\"text-align: right;\">\n",
              "      <th></th>\n",
              "      <th>country</th>\n",
              "      <th>beer_servings</th>\n",
              "      <th>spirit_servings</th>\n",
              "      <th>wine_servings</th>\n",
              "      <th>total_litres_of_pure_alcohol</th>\n",
              "      <th>continent</th>\n",
              "    </tr>\n",
              "  </thead>\n",
              "  <tbody>\n",
              "    <tr>\n",
              "      <th>0</th>\n",
              "      <td>Afghanistan</td>\n",
              "      <td>0</td>\n",
              "      <td>0</td>\n",
              "      <td>0</td>\n",
              "      <td>0.0</td>\n",
              "      <td>Asia</td>\n",
              "    </tr>\n",
              "    <tr>\n",
              "      <th>1</th>\n",
              "      <td>Albania</td>\n",
              "      <td>89</td>\n",
              "      <td>132</td>\n",
              "      <td>54</td>\n",
              "      <td>4.9</td>\n",
              "      <td>Europe</td>\n",
              "    </tr>\n",
              "    <tr>\n",
              "      <th>2</th>\n",
              "      <td>Algeria</td>\n",
              "      <td>25</td>\n",
              "      <td>0</td>\n",
              "      <td>14</td>\n",
              "      <td>0.7</td>\n",
              "      <td>Africa</td>\n",
              "    </tr>\n",
              "    <tr>\n",
              "      <th>3</th>\n",
              "      <td>Andorra</td>\n",
              "      <td>245</td>\n",
              "      <td>138</td>\n",
              "      <td>312</td>\n",
              "      <td>12.4</td>\n",
              "      <td>Europe</td>\n",
              "    </tr>\n",
              "    <tr>\n",
              "      <th>4</th>\n",
              "      <td>Angola</td>\n",
              "      <td>217</td>\n",
              "      <td>57</td>\n",
              "      <td>45</td>\n",
              "      <td>5.9</td>\n",
              "      <td>Africa</td>\n",
              "    </tr>\n",
              "  </tbody>\n",
              "</table>\n",
              "</div>"
            ],
            "text/plain": [
              "       country  beer_servings  ...  total_litres_of_pure_alcohol  continent\n",
              "0  Afghanistan              0  ...                           0.0       Asia\n",
              "1      Albania             89  ...                           4.9     Europe\n",
              "2      Algeria             25  ...                           0.7     Africa\n",
              "3      Andorra            245  ...                          12.4     Europe\n",
              "4       Angola            217  ...                           5.9     Africa\n",
              "\n",
              "[5 rows x 6 columns]"
            ]
          },
          "metadata": {
            "tags": []
          },
          "execution_count": 69
        }
      ]
    },
    {
      "cell_type": "code",
      "metadata": {
        "id": "AyxQmQiPIEs1",
        "colab": {
          "base_uri": "https://localhost:8080/",
          "height": 34
        },
        "outputId": "b8feac86-4e79-4d74-88d1-8cbdc64ee65a"
      },
      "source": [
        "data.index"
      ],
      "execution_count": null,
      "outputs": [
        {
          "output_type": "execute_result",
          "data": {
            "text/plain": [
              "RangeIndex(start=0, stop=193, step=1)"
            ]
          },
          "metadata": {
            "tags": []
          },
          "execution_count": 70
        }
      ]
    },
    {
      "cell_type": "code",
      "metadata": {
        "id": "waV_zjHwILuc",
        "colab": {
          "base_uri": "https://localhost:8080/",
          "height": 136
        },
        "outputId": "68118f21-70d6-4d67-93c8-f1771cf10734"
      },
      "source": [
        "data.loc[0]"
      ],
      "execution_count": null,
      "outputs": [
        {
          "output_type": "execute_result",
          "data": {
            "text/plain": [
              "country                         Afghanistan\n",
              "beer_servings                             0\n",
              "spirit_servings                           0\n",
              "wine_servings                             0\n",
              "total_litres_of_pure_alcohol              0\n",
              "continent                              Asia\n",
              "Name: 0, dtype: object"
            ]
          },
          "metadata": {
            "tags": []
          },
          "execution_count": 71
        }
      ]
    },
    {
      "cell_type": "code",
      "metadata": {
        "id": "c1b9NrVIIUqa",
        "colab": {
          "base_uri": "https://localhost:8080/",
          "height": 136
        },
        "outputId": "8603431c-1367-4192-b372-e8a928fbdd91"
      },
      "source": [
        "data.iloc[0]"
      ],
      "execution_count": null,
      "outputs": [
        {
          "output_type": "execute_result",
          "data": {
            "text/plain": [
              "country                         Afghanistan\n",
              "beer_servings                             0\n",
              "spirit_servings                           0\n",
              "wine_servings                             0\n",
              "total_litres_of_pure_alcohol              0\n",
              "continent                              Asia\n",
              "Name: 0, dtype: object"
            ]
          },
          "metadata": {
            "tags": []
          },
          "execution_count": 72
        }
      ]
    },
    {
      "cell_type": "code",
      "metadata": {
        "id": "Igq1FsRXIdyV"
      },
      "source": [
        "data.set_index('country',inplace=True)"
      ],
      "execution_count": null,
      "outputs": []
    },
    {
      "cell_type": "code",
      "metadata": {
        "id": "7LJZO3b6Ip3p",
        "colab": {
          "base_uri": "https://localhost:8080/",
          "height": 255
        },
        "outputId": "c90c2029-b966-454b-b1a6-9ea9f799c1b6"
      },
      "source": [
        "data.head()"
      ],
      "execution_count": null,
      "outputs": [
        {
          "output_type": "execute_result",
          "data": {
            "text/html": [
              "<div>\n",
              "<style scoped>\n",
              "    .dataframe tbody tr th:only-of-type {\n",
              "        vertical-align: middle;\n",
              "    }\n",
              "\n",
              "    .dataframe tbody tr th {\n",
              "        vertical-align: top;\n",
              "    }\n",
              "\n",
              "    .dataframe thead th {\n",
              "        text-align: right;\n",
              "    }\n",
              "</style>\n",
              "<table border=\"1\" class=\"dataframe\">\n",
              "  <thead>\n",
              "    <tr style=\"text-align: right;\">\n",
              "      <th></th>\n",
              "      <th>beer_servings</th>\n",
              "      <th>spirit_servings</th>\n",
              "      <th>wine_servings</th>\n",
              "      <th>total_litres_of_pure_alcohol</th>\n",
              "      <th>continent</th>\n",
              "    </tr>\n",
              "    <tr>\n",
              "      <th>country</th>\n",
              "      <th></th>\n",
              "      <th></th>\n",
              "      <th></th>\n",
              "      <th></th>\n",
              "      <th></th>\n",
              "    </tr>\n",
              "  </thead>\n",
              "  <tbody>\n",
              "    <tr>\n",
              "      <th>Afghanistan</th>\n",
              "      <td>0</td>\n",
              "      <td>0</td>\n",
              "      <td>0</td>\n",
              "      <td>0.0</td>\n",
              "      <td>Asia</td>\n",
              "    </tr>\n",
              "    <tr>\n",
              "      <th>Albania</th>\n",
              "      <td>89</td>\n",
              "      <td>132</td>\n",
              "      <td>54</td>\n",
              "      <td>4.9</td>\n",
              "      <td>Europe</td>\n",
              "    </tr>\n",
              "    <tr>\n",
              "      <th>Algeria</th>\n",
              "      <td>25</td>\n",
              "      <td>0</td>\n",
              "      <td>14</td>\n",
              "      <td>0.7</td>\n",
              "      <td>Africa</td>\n",
              "    </tr>\n",
              "    <tr>\n",
              "      <th>Andorra</th>\n",
              "      <td>245</td>\n",
              "      <td>138</td>\n",
              "      <td>312</td>\n",
              "      <td>12.4</td>\n",
              "      <td>Europe</td>\n",
              "    </tr>\n",
              "    <tr>\n",
              "      <th>Angola</th>\n",
              "      <td>217</td>\n",
              "      <td>57</td>\n",
              "      <td>45</td>\n",
              "      <td>5.9</td>\n",
              "      <td>Africa</td>\n",
              "    </tr>\n",
              "  </tbody>\n",
              "</table>\n",
              "</div>"
            ],
            "text/plain": [
              "             beer_servings  ...  continent\n",
              "country                     ...           \n",
              "Afghanistan              0  ...       Asia\n",
              "Albania                 89  ...     Europe\n",
              "Algeria                 25  ...     Africa\n",
              "Andorra                245  ...     Europe\n",
              "Angola                 217  ...     Africa\n",
              "\n",
              "[5 rows x 5 columns]"
            ]
          },
          "metadata": {
            "tags": []
          },
          "execution_count": 75
        }
      ]
    },
    {
      "cell_type": "code",
      "metadata": {
        "id": "2O7BJ14NIsm3",
        "colab": {
          "base_uri": "https://localhost:8080/",
          "height": 119
        },
        "outputId": "f4335174-cdcf-4556-ee2b-dceaeef733ff"
      },
      "source": [
        "data.loc['India']"
      ],
      "execution_count": null,
      "outputs": [
        {
          "output_type": "execute_result",
          "data": {
            "text/plain": [
              "beer_servings                      9\n",
              "spirit_servings                  114\n",
              "wine_servings                      0\n",
              "total_litres_of_pure_alcohol     2.2\n",
              "continent                       Asia\n",
              "Name: India, dtype: object"
            ]
          },
          "metadata": {
            "tags": []
          },
          "execution_count": 76
        }
      ]
    },
    {
      "cell_type": "code",
      "metadata": {
        "id": "4xOEdlEkIwwc",
        "colab": {
          "base_uri": "https://localhost:8080/",
          "height": 119
        },
        "outputId": "7544c6b3-2c6e-454c-d597-ec8a4d563f74"
      },
      "source": [
        "data.iloc[1]"
      ],
      "execution_count": null,
      "outputs": [
        {
          "output_type": "execute_result",
          "data": {
            "text/plain": [
              "beer_servings                       89\n",
              "spirit_servings                    132\n",
              "wine_servings                       54\n",
              "total_litres_of_pure_alcohol       4.9\n",
              "continent                       Europe\n",
              "Name: Albania, dtype: object"
            ]
          },
          "metadata": {
            "tags": []
          },
          "execution_count": 77
        }
      ]
    },
    {
      "cell_type": "code",
      "metadata": {
        "id": "q8YMFtIfI6S1"
      },
      "source": [
        "data.reset_index(inplace=True)\n"
      ],
      "execution_count": null,
      "outputs": []
    },
    {
      "cell_type": "code",
      "metadata": {
        "id": "r8FPfWNmJQ5N",
        "colab": {
          "base_uri": "https://localhost:8080/",
          "height": 224
        },
        "outputId": "72570dca-465d-4356-b0cf-4e5fdc677344"
      },
      "source": [
        "data.head()"
      ],
      "execution_count": null,
      "outputs": [
        {
          "output_type": "execute_result",
          "data": {
            "text/html": [
              "<div>\n",
              "<style scoped>\n",
              "    .dataframe tbody tr th:only-of-type {\n",
              "        vertical-align: middle;\n",
              "    }\n",
              "\n",
              "    .dataframe tbody tr th {\n",
              "        vertical-align: top;\n",
              "    }\n",
              "\n",
              "    .dataframe thead th {\n",
              "        text-align: right;\n",
              "    }\n",
              "</style>\n",
              "<table border=\"1\" class=\"dataframe\">\n",
              "  <thead>\n",
              "    <tr style=\"text-align: right;\">\n",
              "      <th></th>\n",
              "      <th>country</th>\n",
              "      <th>beer_servings</th>\n",
              "      <th>spirit_servings</th>\n",
              "      <th>wine_servings</th>\n",
              "      <th>total_litres_of_pure_alcohol</th>\n",
              "      <th>continent</th>\n",
              "    </tr>\n",
              "  </thead>\n",
              "  <tbody>\n",
              "    <tr>\n",
              "      <th>0</th>\n",
              "      <td>Afghanistan</td>\n",
              "      <td>0</td>\n",
              "      <td>0</td>\n",
              "      <td>0</td>\n",
              "      <td>0.0</td>\n",
              "      <td>Asia</td>\n",
              "    </tr>\n",
              "    <tr>\n",
              "      <th>1</th>\n",
              "      <td>Albania</td>\n",
              "      <td>89</td>\n",
              "      <td>132</td>\n",
              "      <td>54</td>\n",
              "      <td>4.9</td>\n",
              "      <td>Europe</td>\n",
              "    </tr>\n",
              "    <tr>\n",
              "      <th>2</th>\n",
              "      <td>Algeria</td>\n",
              "      <td>25</td>\n",
              "      <td>0</td>\n",
              "      <td>14</td>\n",
              "      <td>0.7</td>\n",
              "      <td>Africa</td>\n",
              "    </tr>\n",
              "    <tr>\n",
              "      <th>3</th>\n",
              "      <td>Andorra</td>\n",
              "      <td>245</td>\n",
              "      <td>138</td>\n",
              "      <td>312</td>\n",
              "      <td>12.4</td>\n",
              "      <td>Europe</td>\n",
              "    </tr>\n",
              "    <tr>\n",
              "      <th>4</th>\n",
              "      <td>Angola</td>\n",
              "      <td>217</td>\n",
              "      <td>57</td>\n",
              "      <td>45</td>\n",
              "      <td>5.9</td>\n",
              "      <td>Africa</td>\n",
              "    </tr>\n",
              "  </tbody>\n",
              "</table>\n",
              "</div>"
            ],
            "text/plain": [
              "       country  beer_servings  ...  total_litres_of_pure_alcohol  continent\n",
              "0  Afghanistan              0  ...                           0.0       Asia\n",
              "1      Albania             89  ...                           4.9     Europe\n",
              "2      Algeria             25  ...                           0.7     Africa\n",
              "3      Andorra            245  ...                          12.4     Europe\n",
              "4       Angola            217  ...                           5.9     Africa\n",
              "\n",
              "[5 rows x 6 columns]"
            ]
          },
          "metadata": {
            "tags": []
          },
          "execution_count": 79
        }
      ]
    },
    {
      "cell_type": "code",
      "metadata": {
        "id": "9pb2pXWrJSx_"
      },
      "source": [
        "data=pd.read_csv(\"https://bit.ly/uforeports\")"
      ],
      "execution_count": null,
      "outputs": []
    },
    {
      "cell_type": "code",
      "metadata": {
        "id": "ZKTJm5tXJcMH",
        "colab": {
          "base_uri": "https://localhost:8080/",
          "height": 272
        },
        "outputId": "f3a4f406-3392-4673-8377-de5931f3962b"
      },
      "source": [
        "data.head()"
      ],
      "execution_count": null,
      "outputs": [
        {
          "output_type": "execute_result",
          "data": {
            "text/html": [
              "<div>\n",
              "<style scoped>\n",
              "    .dataframe tbody tr th:only-of-type {\n",
              "        vertical-align: middle;\n",
              "    }\n",
              "\n",
              "    .dataframe tbody tr th {\n",
              "        vertical-align: top;\n",
              "    }\n",
              "\n",
              "    .dataframe thead th {\n",
              "        text-align: right;\n",
              "    }\n",
              "</style>\n",
              "<table border=\"1\" class=\"dataframe\">\n",
              "  <thead>\n",
              "    <tr style=\"text-align: right;\">\n",
              "      <th></th>\n",
              "      <th>City</th>\n",
              "      <th>Colors Reported</th>\n",
              "      <th>Shape Reported</th>\n",
              "      <th>State</th>\n",
              "      <th>Time</th>\n",
              "    </tr>\n",
              "  </thead>\n",
              "  <tbody>\n",
              "    <tr>\n",
              "      <th>0</th>\n",
              "      <td>Ithaca</td>\n",
              "      <td>NaN</td>\n",
              "      <td>TRIANGLE</td>\n",
              "      <td>NY</td>\n",
              "      <td>6/1/1930 22:00</td>\n",
              "    </tr>\n",
              "    <tr>\n",
              "      <th>1</th>\n",
              "      <td>Willingboro</td>\n",
              "      <td>NaN</td>\n",
              "      <td>OTHER</td>\n",
              "      <td>NJ</td>\n",
              "      <td>6/30/1930 20:00</td>\n",
              "    </tr>\n",
              "    <tr>\n",
              "      <th>2</th>\n",
              "      <td>Holyoke</td>\n",
              "      <td>NaN</td>\n",
              "      <td>OVAL</td>\n",
              "      <td>CO</td>\n",
              "      <td>2/15/1931 14:00</td>\n",
              "    </tr>\n",
              "    <tr>\n",
              "      <th>3</th>\n",
              "      <td>Abilene</td>\n",
              "      <td>NaN</td>\n",
              "      <td>DISK</td>\n",
              "      <td>KS</td>\n",
              "      <td>6/1/1931 13:00</td>\n",
              "    </tr>\n",
              "    <tr>\n",
              "      <th>4</th>\n",
              "      <td>New York Worlds Fair</td>\n",
              "      <td>NaN</td>\n",
              "      <td>LIGHT</td>\n",
              "      <td>NY</td>\n",
              "      <td>4/18/1933 19:00</td>\n",
              "    </tr>\n",
              "  </tbody>\n",
              "</table>\n",
              "</div>"
            ],
            "text/plain": [
              "                   City Colors Reported Shape Reported State             Time\n",
              "0                Ithaca             NaN       TRIANGLE    NY   6/1/1930 22:00\n",
              "1           Willingboro             NaN          OTHER    NJ  6/30/1930 20:00\n",
              "2               Holyoke             NaN           OVAL    CO  2/15/1931 14:00\n",
              "3               Abilene             NaN           DISK    KS   6/1/1931 13:00\n",
              "4  New York Worlds Fair             NaN          LIGHT    NY  4/18/1933 19:00"
            ]
          },
          "metadata": {
            "tags": []
          },
          "execution_count": 81
        }
      ]
    },
    {
      "cell_type": "code",
      "metadata": {
        "id": "0vQf0FXjJgGL",
        "colab": {
          "base_uri": "https://localhost:8080/",
          "height": 34
        },
        "outputId": "3b27355e-0301-41ff-af89-ad424f5fadfe"
      },
      "source": [
        "data.shape"
      ],
      "execution_count": null,
      "outputs": [
        {
          "output_type": "execute_result",
          "data": {
            "text/plain": [
              "(18241, 5)"
            ]
          },
          "metadata": {
            "tags": []
          },
          "execution_count": 82
        }
      ]
    },
    {
      "cell_type": "code",
      "metadata": {
        "id": "uqVk1-39JiNF",
        "colab": {
          "base_uri": "https://localhost:8080/",
          "height": 34
        },
        "outputId": "1daed279-ec1a-4bfc-c890-b8c17a30d005"
      },
      "source": [
        "data.dropna(how=\"any\",axis=1).shape,data.dropna(how='any',axis=0).shape"
      ],
      "execution_count": null,
      "outputs": [
        {
          "output_type": "execute_result",
          "data": {
            "text/plain": [
              "((18241, 2), (2486, 5))"
            ]
          },
          "metadata": {
            "tags": []
          },
          "execution_count": 83
        }
      ]
    },
    {
      "cell_type": "code",
      "metadata": {
        "id": "Xeu2fxyXJ5gt",
        "colab": {
          "base_uri": "https://localhost:8080/",
          "height": 34
        },
        "outputId": "705e429b-79b2-4fa4-cf47-61b982ca40a1"
      },
      "source": [
        "data.dropna(how='any',axis=1).columns"
      ],
      "execution_count": null,
      "outputs": [
        {
          "output_type": "execute_result",
          "data": {
            "text/plain": [
              "Index(['State', 'Time'], dtype='object')"
            ]
          },
          "metadata": {
            "tags": []
          },
          "execution_count": 84
        }
      ]
    },
    {
      "cell_type": "code",
      "metadata": {
        "id": "ekT50-VwKMFH",
        "colab": {
          "base_uri": "https://localhost:8080/",
          "height": 606
        },
        "outputId": "31cb9b8a-8080-4618-f5ff-31dd26d9a8b1"
      },
      "source": [
        "data.fillna(\"Kuch bhi\")"
      ],
      "execution_count": null,
      "outputs": [
        {
          "output_type": "execute_result",
          "data": {
            "text/html": [
              "<div>\n",
              "<style scoped>\n",
              "    .dataframe tbody tr th:only-of-type {\n",
              "        vertical-align: middle;\n",
              "    }\n",
              "\n",
              "    .dataframe tbody tr th {\n",
              "        vertical-align: top;\n",
              "    }\n",
              "\n",
              "    .dataframe thead th {\n",
              "        text-align: right;\n",
              "    }\n",
              "</style>\n",
              "<table border=\"1\" class=\"dataframe\">\n",
              "  <thead>\n",
              "    <tr style=\"text-align: right;\">\n",
              "      <th></th>\n",
              "      <th>City</th>\n",
              "      <th>Colors Reported</th>\n",
              "      <th>Shape Reported</th>\n",
              "      <th>State</th>\n",
              "      <th>Time</th>\n",
              "    </tr>\n",
              "  </thead>\n",
              "  <tbody>\n",
              "    <tr>\n",
              "      <th>0</th>\n",
              "      <td>Ithaca</td>\n",
              "      <td>Kuch bhi</td>\n",
              "      <td>TRIANGLE</td>\n",
              "      <td>NY</td>\n",
              "      <td>6/1/1930 22:00</td>\n",
              "    </tr>\n",
              "    <tr>\n",
              "      <th>1</th>\n",
              "      <td>Willingboro</td>\n",
              "      <td>Kuch bhi</td>\n",
              "      <td>OTHER</td>\n",
              "      <td>NJ</td>\n",
              "      <td>6/30/1930 20:00</td>\n",
              "    </tr>\n",
              "    <tr>\n",
              "      <th>2</th>\n",
              "      <td>Holyoke</td>\n",
              "      <td>Kuch bhi</td>\n",
              "      <td>OVAL</td>\n",
              "      <td>CO</td>\n",
              "      <td>2/15/1931 14:00</td>\n",
              "    </tr>\n",
              "    <tr>\n",
              "      <th>3</th>\n",
              "      <td>Abilene</td>\n",
              "      <td>Kuch bhi</td>\n",
              "      <td>DISK</td>\n",
              "      <td>KS</td>\n",
              "      <td>6/1/1931 13:00</td>\n",
              "    </tr>\n",
              "    <tr>\n",
              "      <th>4</th>\n",
              "      <td>New York Worlds Fair</td>\n",
              "      <td>Kuch bhi</td>\n",
              "      <td>LIGHT</td>\n",
              "      <td>NY</td>\n",
              "      <td>4/18/1933 19:00</td>\n",
              "    </tr>\n",
              "    <tr>\n",
              "      <th>...</th>\n",
              "      <td>...</td>\n",
              "      <td>...</td>\n",
              "      <td>...</td>\n",
              "      <td>...</td>\n",
              "      <td>...</td>\n",
              "    </tr>\n",
              "    <tr>\n",
              "      <th>18236</th>\n",
              "      <td>Grant Park</td>\n",
              "      <td>Kuch bhi</td>\n",
              "      <td>TRIANGLE</td>\n",
              "      <td>IL</td>\n",
              "      <td>12/31/2000 23:00</td>\n",
              "    </tr>\n",
              "    <tr>\n",
              "      <th>18237</th>\n",
              "      <td>Spirit Lake</td>\n",
              "      <td>Kuch bhi</td>\n",
              "      <td>DISK</td>\n",
              "      <td>IA</td>\n",
              "      <td>12/31/2000 23:00</td>\n",
              "    </tr>\n",
              "    <tr>\n",
              "      <th>18238</th>\n",
              "      <td>Eagle River</td>\n",
              "      <td>Kuch bhi</td>\n",
              "      <td>Kuch bhi</td>\n",
              "      <td>WI</td>\n",
              "      <td>12/31/2000 23:45</td>\n",
              "    </tr>\n",
              "    <tr>\n",
              "      <th>18239</th>\n",
              "      <td>Eagle River</td>\n",
              "      <td>RED</td>\n",
              "      <td>LIGHT</td>\n",
              "      <td>WI</td>\n",
              "      <td>12/31/2000 23:45</td>\n",
              "    </tr>\n",
              "    <tr>\n",
              "      <th>18240</th>\n",
              "      <td>Ybor</td>\n",
              "      <td>Kuch bhi</td>\n",
              "      <td>OVAL</td>\n",
              "      <td>FL</td>\n",
              "      <td>12/31/2000 23:59</td>\n",
              "    </tr>\n",
              "  </tbody>\n",
              "</table>\n",
              "<p>18241 rows × 5 columns</p>\n",
              "</div>"
            ],
            "text/plain": [
              "                       City Colors Reported  ... State              Time\n",
              "0                    Ithaca        Kuch bhi  ...    NY    6/1/1930 22:00\n",
              "1               Willingboro        Kuch bhi  ...    NJ   6/30/1930 20:00\n",
              "2                   Holyoke        Kuch bhi  ...    CO   2/15/1931 14:00\n",
              "3                   Abilene        Kuch bhi  ...    KS    6/1/1931 13:00\n",
              "4      New York Worlds Fair        Kuch bhi  ...    NY   4/18/1933 19:00\n",
              "...                     ...             ...  ...   ...               ...\n",
              "18236            Grant Park        Kuch bhi  ...    IL  12/31/2000 23:00\n",
              "18237           Spirit Lake        Kuch bhi  ...    IA  12/31/2000 23:00\n",
              "18238           Eagle River        Kuch bhi  ...    WI  12/31/2000 23:45\n",
              "18239           Eagle River             RED  ...    WI  12/31/2000 23:45\n",
              "18240                  Ybor        Kuch bhi  ...    FL  12/31/2000 23:59\n",
              "\n",
              "[18241 rows x 5 columns]"
            ]
          },
          "metadata": {
            "tags": []
          },
          "execution_count": 85
        }
      ]
    },
    {
      "cell_type": "code",
      "metadata": {
        "id": "l3GXU0vYKzep",
        "colab": {
          "base_uri": "https://localhost:8080/",
          "height": 419
        },
        "outputId": "bded419f-babd-459b-917e-7e5db37e0500"
      },
      "source": [
        "data.drop('City',axis=1)"
      ],
      "execution_count": null,
      "outputs": [
        {
          "output_type": "execute_result",
          "data": {
            "text/html": [
              "<div>\n",
              "<style scoped>\n",
              "    .dataframe tbody tr th:only-of-type {\n",
              "        vertical-align: middle;\n",
              "    }\n",
              "\n",
              "    .dataframe tbody tr th {\n",
              "        vertical-align: top;\n",
              "    }\n",
              "\n",
              "    .dataframe thead th {\n",
              "        text-align: right;\n",
              "    }\n",
              "</style>\n",
              "<table border=\"1\" class=\"dataframe\">\n",
              "  <thead>\n",
              "    <tr style=\"text-align: right;\">\n",
              "      <th></th>\n",
              "      <th>Colors Reported</th>\n",
              "      <th>Shape Reported</th>\n",
              "      <th>State</th>\n",
              "      <th>Time</th>\n",
              "    </tr>\n",
              "  </thead>\n",
              "  <tbody>\n",
              "    <tr>\n",
              "      <th>0</th>\n",
              "      <td>NaN</td>\n",
              "      <td>TRIANGLE</td>\n",
              "      <td>NY</td>\n",
              "      <td>6/1/1930 22:00</td>\n",
              "    </tr>\n",
              "    <tr>\n",
              "      <th>1</th>\n",
              "      <td>NaN</td>\n",
              "      <td>OTHER</td>\n",
              "      <td>NJ</td>\n",
              "      <td>6/30/1930 20:00</td>\n",
              "    </tr>\n",
              "    <tr>\n",
              "      <th>2</th>\n",
              "      <td>NaN</td>\n",
              "      <td>OVAL</td>\n",
              "      <td>CO</td>\n",
              "      <td>2/15/1931 14:00</td>\n",
              "    </tr>\n",
              "    <tr>\n",
              "      <th>3</th>\n",
              "      <td>NaN</td>\n",
              "      <td>DISK</td>\n",
              "      <td>KS</td>\n",
              "      <td>6/1/1931 13:00</td>\n",
              "    </tr>\n",
              "    <tr>\n",
              "      <th>4</th>\n",
              "      <td>NaN</td>\n",
              "      <td>LIGHT</td>\n",
              "      <td>NY</td>\n",
              "      <td>4/18/1933 19:00</td>\n",
              "    </tr>\n",
              "    <tr>\n",
              "      <th>...</th>\n",
              "      <td>...</td>\n",
              "      <td>...</td>\n",
              "      <td>...</td>\n",
              "      <td>...</td>\n",
              "    </tr>\n",
              "    <tr>\n",
              "      <th>18236</th>\n",
              "      <td>NaN</td>\n",
              "      <td>TRIANGLE</td>\n",
              "      <td>IL</td>\n",
              "      <td>12/31/2000 23:00</td>\n",
              "    </tr>\n",
              "    <tr>\n",
              "      <th>18237</th>\n",
              "      <td>NaN</td>\n",
              "      <td>DISK</td>\n",
              "      <td>IA</td>\n",
              "      <td>12/31/2000 23:00</td>\n",
              "    </tr>\n",
              "    <tr>\n",
              "      <th>18238</th>\n",
              "      <td>NaN</td>\n",
              "      <td>NaN</td>\n",
              "      <td>WI</td>\n",
              "      <td>12/31/2000 23:45</td>\n",
              "    </tr>\n",
              "    <tr>\n",
              "      <th>18239</th>\n",
              "      <td>RED</td>\n",
              "      <td>LIGHT</td>\n",
              "      <td>WI</td>\n",
              "      <td>12/31/2000 23:45</td>\n",
              "    </tr>\n",
              "    <tr>\n",
              "      <th>18240</th>\n",
              "      <td>NaN</td>\n",
              "      <td>OVAL</td>\n",
              "      <td>FL</td>\n",
              "      <td>12/31/2000 23:59</td>\n",
              "    </tr>\n",
              "  </tbody>\n",
              "</table>\n",
              "<p>18241 rows × 4 columns</p>\n",
              "</div>"
            ],
            "text/plain": [
              "      Colors Reported Shape Reported State              Time\n",
              "0                 NaN       TRIANGLE    NY    6/1/1930 22:00\n",
              "1                 NaN          OTHER    NJ   6/30/1930 20:00\n",
              "2                 NaN           OVAL    CO   2/15/1931 14:00\n",
              "3                 NaN           DISK    KS    6/1/1931 13:00\n",
              "4                 NaN          LIGHT    NY   4/18/1933 19:00\n",
              "...               ...            ...   ...               ...\n",
              "18236             NaN       TRIANGLE    IL  12/31/2000 23:00\n",
              "18237             NaN           DISK    IA  12/31/2000 23:00\n",
              "18238             NaN            NaN    WI  12/31/2000 23:45\n",
              "18239             RED          LIGHT    WI  12/31/2000 23:45\n",
              "18240             NaN           OVAL    FL  12/31/2000 23:59\n",
              "\n",
              "[18241 rows x 4 columns]"
            ]
          },
          "metadata": {
            "tags": []
          },
          "execution_count": 87
        }
      ]
    },
    {
      "cell_type": "code",
      "metadata": {
        "id": "zgzL4UvNLEo4",
        "colab": {
          "base_uri": "https://localhost:8080/",
          "height": 606
        },
        "outputId": "a3cb1ad6-8b59-4505-fb34-46f1307456ef"
      },
      "source": [
        "data.drop([0,1,2,3],axis=0)"
      ],
      "execution_count": null,
      "outputs": [
        {
          "output_type": "execute_result",
          "data": {
            "text/html": [
              "<div>\n",
              "<style scoped>\n",
              "    .dataframe tbody tr th:only-of-type {\n",
              "        vertical-align: middle;\n",
              "    }\n",
              "\n",
              "    .dataframe tbody tr th {\n",
              "        vertical-align: top;\n",
              "    }\n",
              "\n",
              "    .dataframe thead th {\n",
              "        text-align: right;\n",
              "    }\n",
              "</style>\n",
              "<table border=\"1\" class=\"dataframe\">\n",
              "  <thead>\n",
              "    <tr style=\"text-align: right;\">\n",
              "      <th></th>\n",
              "      <th>City</th>\n",
              "      <th>Colors Reported</th>\n",
              "      <th>Shape Reported</th>\n",
              "      <th>State</th>\n",
              "      <th>Time</th>\n",
              "    </tr>\n",
              "  </thead>\n",
              "  <tbody>\n",
              "    <tr>\n",
              "      <th>4</th>\n",
              "      <td>New York Worlds Fair</td>\n",
              "      <td>NaN</td>\n",
              "      <td>LIGHT</td>\n",
              "      <td>NY</td>\n",
              "      <td>4/18/1933 19:00</td>\n",
              "    </tr>\n",
              "    <tr>\n",
              "      <th>5</th>\n",
              "      <td>Valley City</td>\n",
              "      <td>NaN</td>\n",
              "      <td>DISK</td>\n",
              "      <td>ND</td>\n",
              "      <td>9/15/1934 15:30</td>\n",
              "    </tr>\n",
              "    <tr>\n",
              "      <th>6</th>\n",
              "      <td>Crater Lake</td>\n",
              "      <td>NaN</td>\n",
              "      <td>CIRCLE</td>\n",
              "      <td>CA</td>\n",
              "      <td>6/15/1935 0:00</td>\n",
              "    </tr>\n",
              "    <tr>\n",
              "      <th>7</th>\n",
              "      <td>Alma</td>\n",
              "      <td>NaN</td>\n",
              "      <td>DISK</td>\n",
              "      <td>MI</td>\n",
              "      <td>7/15/1936 0:00</td>\n",
              "    </tr>\n",
              "    <tr>\n",
              "      <th>8</th>\n",
              "      <td>Eklutna</td>\n",
              "      <td>NaN</td>\n",
              "      <td>CIGAR</td>\n",
              "      <td>AK</td>\n",
              "      <td>10/15/1936 17:00</td>\n",
              "    </tr>\n",
              "    <tr>\n",
              "      <th>...</th>\n",
              "      <td>...</td>\n",
              "      <td>...</td>\n",
              "      <td>...</td>\n",
              "      <td>...</td>\n",
              "      <td>...</td>\n",
              "    </tr>\n",
              "    <tr>\n",
              "      <th>18236</th>\n",
              "      <td>Grant Park</td>\n",
              "      <td>NaN</td>\n",
              "      <td>TRIANGLE</td>\n",
              "      <td>IL</td>\n",
              "      <td>12/31/2000 23:00</td>\n",
              "    </tr>\n",
              "    <tr>\n",
              "      <th>18237</th>\n",
              "      <td>Spirit Lake</td>\n",
              "      <td>NaN</td>\n",
              "      <td>DISK</td>\n",
              "      <td>IA</td>\n",
              "      <td>12/31/2000 23:00</td>\n",
              "    </tr>\n",
              "    <tr>\n",
              "      <th>18238</th>\n",
              "      <td>Eagle River</td>\n",
              "      <td>NaN</td>\n",
              "      <td>NaN</td>\n",
              "      <td>WI</td>\n",
              "      <td>12/31/2000 23:45</td>\n",
              "    </tr>\n",
              "    <tr>\n",
              "      <th>18239</th>\n",
              "      <td>Eagle River</td>\n",
              "      <td>RED</td>\n",
              "      <td>LIGHT</td>\n",
              "      <td>WI</td>\n",
              "      <td>12/31/2000 23:45</td>\n",
              "    </tr>\n",
              "    <tr>\n",
              "      <th>18240</th>\n",
              "      <td>Ybor</td>\n",
              "      <td>NaN</td>\n",
              "      <td>OVAL</td>\n",
              "      <td>FL</td>\n",
              "      <td>12/31/2000 23:59</td>\n",
              "    </tr>\n",
              "  </tbody>\n",
              "</table>\n",
              "<p>18237 rows × 5 columns</p>\n",
              "</div>"
            ],
            "text/plain": [
              "                       City Colors Reported  ... State              Time\n",
              "4      New York Worlds Fair             NaN  ...    NY   4/18/1933 19:00\n",
              "5               Valley City             NaN  ...    ND   9/15/1934 15:30\n",
              "6               Crater Lake             NaN  ...    CA    6/15/1935 0:00\n",
              "7                      Alma             NaN  ...    MI    7/15/1936 0:00\n",
              "8                   Eklutna             NaN  ...    AK  10/15/1936 17:00\n",
              "...                     ...             ...  ...   ...               ...\n",
              "18236            Grant Park             NaN  ...    IL  12/31/2000 23:00\n",
              "18237           Spirit Lake             NaN  ...    IA  12/31/2000 23:00\n",
              "18238           Eagle River             NaN  ...    WI  12/31/2000 23:45\n",
              "18239           Eagle River             RED  ...    WI  12/31/2000 23:45\n",
              "18240                  Ybor             NaN  ...    FL  12/31/2000 23:59\n",
              "\n",
              "[18237 rows x 5 columns]"
            ]
          },
          "metadata": {
            "tags": []
          },
          "execution_count": 89
        }
      ]
    },
    {
      "cell_type": "code",
      "metadata": {
        "id": "Dkp_qyNLLYRX"
      },
      "source": [
        ""
      ],
      "execution_count": null,
      "outputs": []
    }
  ]
}