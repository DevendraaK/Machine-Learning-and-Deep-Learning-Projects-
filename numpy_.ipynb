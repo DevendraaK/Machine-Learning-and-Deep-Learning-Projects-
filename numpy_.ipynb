{
  "nbformat": 4,
  "nbformat_minor": 0,
  "metadata": {
    "colab": {
      "name": "numpy_.ipynb",
      "provenance": [],
      "authorship_tag": "ABX9TyOa/3VOtq8YMjHiJILVEJ+3",
      "include_colab_link": true
    },
    "kernelspec": {
      "name": "python3",
      "display_name": "Python 3"
    }
  },
  "cells": [
    {
      "cell_type": "markdown",
      "metadata": {
        "id": "view-in-github",
        "colab_type": "text"
      },
      "source": [
        "<a href=\"https://colab.research.google.com/github/DevendraaK/Machine-Learning-and-Deep-Learning-Projects-/blob/main/numpy_.ipynb\" target=\"_parent\"><img src=\"https://colab.research.google.com/assets/colab-badge.svg\" alt=\"Open In Colab\"/></a>"
      ]
    },
    {
      "cell_type": "code",
      "metadata": {
        "id": "bq1RNMl1Mzba"
      },
      "source": [
        "import numpy as np"
      ],
      "execution_count": null,
      "outputs": []
    },
    {
      "cell_type": "code",
      "metadata": {
        "colab": {
          "base_uri": "https://localhost:8080/"
        },
        "id": "YPFiQfvCM_JP",
        "outputId": "849dca6b-cf1b-4d3e-9555-f1d77fb34729"
      },
      "source": [
        "a=np.zeros((3,3,3))\n",
        "print(a)"
      ],
      "execution_count": null,
      "outputs": [
        {
          "output_type": "stream",
          "text": [
            "[[[0. 0. 0.]\n",
            "  [0. 0. 0.]\n",
            "  [0. 0. 0.]]\n",
            "\n",
            " [[0. 0. 0.]\n",
            "  [0. 0. 0.]\n",
            "  [0. 0. 0.]]\n",
            "\n",
            " [[0. 0. 0.]\n",
            "  [0. 0. 0.]\n",
            "  [0. 0. 0.]]]\n"
          ],
          "name": "stdout"
        }
      ]
    },
    {
      "cell_type": "code",
      "metadata": {
        "colab": {
          "base_uri": "https://localhost:8080/"
        },
        "id": "iXG8FNy9NOic",
        "outputId": "d3c508c2-39ef-4f46-a82b-807d1674ebdc"
      },
      "source": [
        "np.ones((2,2,4))"
      ],
      "execution_count": null,
      "outputs": [
        {
          "output_type": "execute_result",
          "data": {
            "text/plain": [
              "array([[[1., 1., 1., 1.],\n",
              "        [1., 1., 1., 1.]],\n",
              "\n",
              "       [[1., 1., 1., 1.],\n",
              "        [1., 1., 1., 1.]]])"
            ]
          },
          "metadata": {
            "tags": []
          },
          "execution_count": 4
        }
      ]
    },
    {
      "cell_type": "code",
      "metadata": {
        "colab": {
          "base_uri": "https://localhost:8080/"
        },
        "id": "5KRczIlKNdkr",
        "outputId": "f8a71c90-8921-42a5-e90b-2173fa671f96"
      },
      "source": [
        "np.full((2,2),\"hellowdevendra\",dtype='<U7')"
      ],
      "execution_count": null,
      "outputs": [
        {
          "output_type": "execute_result",
          "data": {
            "text/plain": [
              "array([['hellowd', 'hellowd'],\n",
              "       ['hellowd', 'hellowd']], dtype='<U7')"
            ]
          },
          "metadata": {
            "tags": []
          },
          "execution_count": 5
        }
      ]
    },
    {
      "cell_type": "code",
      "metadata": {
        "colab": {
          "base_uri": "https://localhost:8080/"
        },
        "id": "FsXWTzDcNrQA",
        "outputId": "2643665e-ed61-40b0-e697-b15fb35c509e"
      },
      "source": [
        "np.random.rand(10)"
      ],
      "execution_count": null,
      "outputs": [
        {
          "output_type": "execute_result",
          "data": {
            "text/plain": [
              "array([0.10572175, 0.61971312, 0.27989047, 0.76645271, 0.80659257,\n",
              "       0.26249133, 0.76987385, 0.37298183, 0.32365084, 0.69669279])"
            ]
          },
          "metadata": {
            "tags": []
          },
          "execution_count": 6
        }
      ]
    },
    {
      "cell_type": "code",
      "metadata": {
        "colab": {
          "base_uri": "https://localhost:8080/"
        },
        "id": "4n6mjFaENyLb",
        "outputId": "ca83abb4-9b44-4ae2-c693-6d27bb0aefd5"
      },
      "source": [
        "data=np.random.randint(5,10,(10,10))\n",
        "data"
      ],
      "execution_count": null,
      "outputs": [
        {
          "output_type": "execute_result",
          "data": {
            "text/plain": [
              "array([[5, 7, 7, 9, 7, 6, 9, 6, 6, 9],\n",
              "       [9, 9, 9, 9, 7, 7, 7, 8, 7, 8],\n",
              "       [7, 8, 7, 9, 5, 8, 6, 8, 9, 6],\n",
              "       [7, 8, 5, 6, 6, 6, 6, 5, 5, 6],\n",
              "       [8, 7, 9, 6, 5, 6, 5, 7, 8, 6],\n",
              "       [8, 6, 8, 6, 6, 8, 7, 9, 9, 8],\n",
              "       [9, 8, 7, 6, 7, 9, 9, 8, 9, 8],\n",
              "       [5, 5, 5, 9, 9, 9, 8, 8, 5, 9],\n",
              "       [7, 5, 9, 8, 7, 6, 5, 6, 5, 6],\n",
              "       [9, 7, 8, 8, 7, 8, 6, 6, 6, 7]])"
            ]
          },
          "metadata": {
            "tags": []
          },
          "execution_count": 36
        }
      ]
    },
    {
      "cell_type": "markdown",
      "metadata": {
        "id": "ruXYjRSUN72V"
      },
      "source": [
        "Access of Numpy"
      ]
    },
    {
      "cell_type": "code",
      "metadata": {
        "colab": {
          "base_uri": "https://localhost:8080/"
        },
        "id": "mmZGQRzLN-mf",
        "outputId": "b76531db-9262-476f-e9a6-44a364022eab"
      },
      "source": [
        "data[4:8]"
      ],
      "execution_count": null,
      "outputs": [
        {
          "output_type": "execute_result",
          "data": {
            "text/plain": [
              "array([[5, 6, 5, 8, 7, 8, 5, 8, 6, 7],\n",
              "       [7, 8, 9, 7, 9, 8, 7, 6, 8, 6],\n",
              "       [8, 6, 7, 8, 5, 5, 6, 9, 8, 8],\n",
              "       [8, 8, 6, 6, 5, 7, 5, 7, 8, 7]])"
            ]
          },
          "metadata": {
            "tags": []
          },
          "execution_count": 10
        }
      ]
    },
    {
      "cell_type": "code",
      "metadata": {
        "colab": {
          "base_uri": "https://localhost:8080/"
        },
        "id": "z5Qtb3xuOIy4",
        "outputId": "e38fbdb0-ef31-4d23-9174-a1194aa2b96b"
      },
      "source": [
        "data[4:8,4:6]"
      ],
      "execution_count": null,
      "outputs": [
        {
          "output_type": "execute_result",
          "data": {
            "text/plain": [
              "array([[7, 8],\n",
              "       [9, 8],\n",
              "       [5, 5],\n",
              "       [5, 7]])"
            ]
          },
          "metadata": {
            "tags": []
          },
          "execution_count": 11
        }
      ]
    },
    {
      "cell_type": "code",
      "metadata": {
        "colab": {
          "base_uri": "https://localhost:8080/"
        },
        "id": "4yMgqnn2OPfF",
        "outputId": "d6ea5e7a-b419-4d1d-939b-f0f68d81350d"
      },
      "source": [
        "data[4:6,4:6]"
      ],
      "execution_count": null,
      "outputs": [
        {
          "output_type": "execute_result",
          "data": {
            "text/plain": [
              "array([[7, 8],\n",
              "       [9, 8]])"
            ]
          },
          "metadata": {
            "tags": []
          },
          "execution_count": 12
        }
      ]
    },
    {
      "cell_type": "markdown",
      "metadata": {
        "id": "bMR5tYQjOXPn"
      },
      "source": [
        "Combine Data"
      ]
    },
    {
      "cell_type": "code",
      "metadata": {
        "colab": {
          "base_uri": "https://localhost:8080/"
        },
        "id": "arntXMv7Oa8O",
        "outputId": "5b5933b0-3c7b-46e2-f24d-f434610adbf9"
      },
      "source": [
        "data1=np.random.randint(5,15,size=(5,3))\n",
        "print(data1)"
      ],
      "execution_count": null,
      "outputs": [
        {
          "output_type": "stream",
          "text": [
            "[[ 9  5 12]\n",
            " [ 9 10  5]\n",
            " [12 12 12]\n",
            " [ 6  5  7]\n",
            " [13  5  6]]\n"
          ],
          "name": "stdout"
        }
      ]
    },
    {
      "cell_type": "code",
      "metadata": {
        "colab": {
          "base_uri": "https://localhost:8080/"
        },
        "id": "v_yu_uLeOlIp",
        "outputId": "0d104fd1-c711-46e7-f431-878c81104360"
      },
      "source": [
        "data2=np.random.randint(5,15,size=(5,3))\n",
        "data2"
      ],
      "execution_count": null,
      "outputs": [
        {
          "output_type": "execute_result",
          "data": {
            "text/plain": [
              "array([[ 8,  8,  9],\n",
              "       [13,  8, 13],\n",
              "       [ 5, 13, 13],\n",
              "       [10, 12, 13],\n",
              "       [ 9, 13, 13]])"
            ]
          },
          "metadata": {
            "tags": []
          },
          "execution_count": 18
        }
      ]
    },
    {
      "cell_type": "code",
      "metadata": {
        "colab": {
          "base_uri": "https://localhost:8080/"
        },
        "id": "Lqn8gMlIOpFE",
        "outputId": "6b0e0741-af28-4cdf-a5ef-a3286a2ad150"
      },
      "source": [
        "np.hstack([data1,data2])"
      ],
      "execution_count": null,
      "outputs": [
        {
          "output_type": "execute_result",
          "data": {
            "text/plain": [
              "array([[ 9,  8,  9, 12,  7,  8],\n",
              "       [11,  5, 10,  8,  6, 13],\n",
              "       [ 5,  5,  9,  6,  7,  8],\n",
              "       [ 5,  7, 10, 14, 12,  7],\n",
              "       [13,  7,  7,  8,  5,  8]])"
            ]
          },
          "metadata": {
            "tags": []
          },
          "execution_count": 16
        }
      ]
    },
    {
      "cell_type": "code",
      "metadata": {
        "colab": {
          "base_uri": "https://localhost:8080/"
        },
        "id": "ZXncqD-VO9g5",
        "outputId": "46a50bff-39fa-45f2-c6a0-dc463b57dc80"
      },
      "source": [
        "np.vstack([data1,data2])"
      ],
      "execution_count": null,
      "outputs": [
        {
          "output_type": "execute_result",
          "data": {
            "text/plain": [
              "array([[ 9,  5, 12],\n",
              "       [ 9, 10,  5],\n",
              "       [12, 12, 12],\n",
              "       [ 6,  5,  7],\n",
              "       [13,  5,  6],\n",
              "       [ 8,  8,  9],\n",
              "       [13,  8, 13],\n",
              "       [ 5, 13, 13],\n",
              "       [10, 12, 13],\n",
              "       [ 9, 13, 13]])"
            ]
          },
          "metadata": {
            "tags": []
          },
          "execution_count": 19
        }
      ]
    },
    {
      "cell_type": "code",
      "metadata": {
        "colab": {
          "base_uri": "https://localhost:8080/"
        },
        "id": "A3GIzEqlPDMF",
        "outputId": "7035dd13-4fb4-460f-9c3b-a30a85e33259"
      },
      "source": [
        "np.concatenate([data1,data2],axis=1)"
      ],
      "execution_count": null,
      "outputs": [
        {
          "output_type": "execute_result",
          "data": {
            "text/plain": [
              "array([[ 9,  5, 12,  8,  8,  9],\n",
              "       [ 9, 10,  5, 13,  8, 13],\n",
              "       [12, 12, 12,  5, 13, 13],\n",
              "       [ 6,  5,  7, 10, 12, 13],\n",
              "       [13,  5,  6,  9, 13, 13]])"
            ]
          },
          "metadata": {
            "tags": []
          },
          "execution_count": 20
        }
      ]
    },
    {
      "cell_type": "code",
      "metadata": {
        "colab": {
          "base_uri": "https://localhost:8080/"
        },
        "id": "Vb16cKvwPMyu",
        "outputId": "c348dd29-20fd-4e2e-e137-723765457bfb"
      },
      "source": [
        "data1 = np.random.randint(5,15,size=(5,3,2))\n",
        "data1"
      ],
      "execution_count": null,
      "outputs": [
        {
          "output_type": "execute_result",
          "data": {
            "text/plain": [
              "array([[[12, 12],\n",
              "        [ 5, 14],\n",
              "        [13, 11]],\n",
              "\n",
              "       [[ 6,  5],\n",
              "        [10, 10],\n",
              "        [12,  8]],\n",
              "\n",
              "       [[10,  9],\n",
              "        [11,  6],\n",
              "        [11,  6]],\n",
              "\n",
              "       [[ 7, 11],\n",
              "        [ 5, 14],\n",
              "        [12,  6]],\n",
              "\n",
              "       [[ 6, 11],\n",
              "        [ 6,  7],\n",
              "        [ 7,  6]]])"
            ]
          },
          "metadata": {
            "tags": []
          },
          "execution_count": 29
        }
      ]
    },
    {
      "cell_type": "code",
      "metadata": {
        "id": "1hSv4ltBPSoD"
      },
      "source": [
        "data2=np.random.randint(5,15,size=(5,3,2))"
      ],
      "execution_count": null,
      "outputs": []
    },
    {
      "cell_type": "code",
      "metadata": {
        "colab": {
          "base_uri": "https://localhost:8080/"
        },
        "id": "V5bK8t6YPWBA",
        "outputId": "7310a325-abaa-4afb-fa0a-65c90863fd35"
      },
      "source": [
        "np.concatenate([data1,data2],axis=2)"
      ],
      "execution_count": null,
      "outputs": [
        {
          "output_type": "execute_result",
          "data": {
            "text/plain": [
              "array([[[12, 12, 12,  8],\n",
              "        [ 5, 14,  6,  7],\n",
              "        [13, 11, 13,  6]],\n",
              "\n",
              "       [[ 6,  5, 14,  5],\n",
              "        [10, 10,  6,  7],\n",
              "        [12,  8, 10, 14]],\n",
              "\n",
              "       [[10,  9, 10, 11],\n",
              "        [11,  6,  7, 14],\n",
              "        [11,  6, 14,  7]],\n",
              "\n",
              "       [[ 7, 11,  9, 10],\n",
              "        [ 5, 14, 13,  8],\n",
              "        [12,  6, 13, 10]],\n",
              "\n",
              "       [[ 6, 11,  5, 13],\n",
              "        [ 6,  7, 11, 13],\n",
              "        [ 7,  6,  6,  8]]])"
            ]
          },
          "metadata": {
            "tags": []
          },
          "execution_count": 31
        }
      ]
    },
    {
      "cell_type": "markdown",
      "metadata": {
        "id": "xmHbt81gP_d9"
      },
      "source": [
        "Splitting Data"
      ]
    },
    {
      "cell_type": "code",
      "metadata": {
        "id": "6adsSK6TQB1X"
      },
      "source": [
        "a1,a2=np.hsplit(data,[5])"
      ],
      "execution_count": null,
      "outputs": []
    },
    {
      "cell_type": "code",
      "metadata": {
        "colab": {
          "base_uri": "https://localhost:8080/"
        },
        "id": "3ZRpwVwGQHWi",
        "outputId": "02ae59be-a0c0-41f6-e192-cf0bb57634a9"
      },
      "source": [
        "a1"
      ],
      "execution_count": null,
      "outputs": [
        {
          "output_type": "execute_result",
          "data": {
            "text/plain": [
              "array([[8, 6, 7, 9, 5],\n",
              "       [5, 5, 5, 8, 5],\n",
              "       [8, 9, 8, 5, 6],\n",
              "       [9, 9, 6, 5, 9],\n",
              "       [5, 6, 5, 8, 7],\n",
              "       [7, 8, 9, 7, 9],\n",
              "       [8, 6, 7, 8, 5],\n",
              "       [8, 8, 6, 6, 5],\n",
              "       [7, 9, 7, 8, 5],\n",
              "       [5, 9, 6, 8, 9]])"
            ]
          },
          "metadata": {
            "tags": []
          },
          "execution_count": 38
        }
      ]
    },
    {
      "cell_type": "code",
      "metadata": {
        "colab": {
          "base_uri": "https://localhost:8080/"
        },
        "id": "vJIOyVQ0QeFM",
        "outputId": "e3ab5465-6245-4bc0-e773-6d8a1e19cb48"
      },
      "source": [
        "a2"
      ],
      "execution_count": null,
      "outputs": [
        {
          "output_type": "execute_result",
          "data": {
            "text/plain": [
              "array([[8, 5, 8, 6, 7],\n",
              "       [5, 9, 6, 9, 7],\n",
              "       [6, 9, 8, 6, 8],\n",
              "       [6, 9, 8, 7, 9],\n",
              "       [8, 5, 8, 6, 7],\n",
              "       [8, 7, 6, 8, 6],\n",
              "       [5, 6, 9, 8, 8],\n",
              "       [7, 5, 7, 8, 7],\n",
              "       [9, 9, 9, 5, 5],\n",
              "       [5, 8, 9, 6, 8]])"
            ]
          },
          "metadata": {
            "tags": []
          },
          "execution_count": 39
        }
      ]
    },
    {
      "cell_type": "code",
      "metadata": {
        "id": "0ZyMHJ0QQgp2"
      },
      "source": [
        "b1,b2,b3=np.vsplit(data,[5,7])"
      ],
      "execution_count": null,
      "outputs": []
    },
    {
      "cell_type": "code",
      "metadata": {
        "colab": {
          "base_uri": "https://localhost:8080/"
        },
        "id": "XmwfcG3WR5Md",
        "outputId": "dfa9198d-4ec5-4d84-c794-c7bdc64ffeaf"
      },
      "source": [
        "b1"
      ],
      "execution_count": null,
      "outputs": [
        {
          "output_type": "execute_result",
          "data": {
            "text/plain": [
              "array([[5, 7, 7, 9, 7, 6, 9, 6, 6, 9],\n",
              "       [9, 9, 9, 9, 7, 7, 7, 8, 7, 8],\n",
              "       [7, 8, 7, 9, 5, 8, 6, 8, 9, 6],\n",
              "       [7, 8, 5, 6, 6, 6, 6, 5, 5, 6],\n",
              "       [8, 7, 9, 6, 5, 6, 5, 7, 8, 6]])"
            ]
          },
          "metadata": {
            "tags": []
          },
          "execution_count": 41
        }
      ]
    },
    {
      "cell_type": "code",
      "metadata": {
        "colab": {
          "base_uri": "https://localhost:8080/"
        },
        "id": "FP0iUpFiR6zF",
        "outputId": "9d169f54-57fa-46b7-a664-b15233f05fff"
      },
      "source": [
        "b2"
      ],
      "execution_count": null,
      "outputs": [
        {
          "output_type": "execute_result",
          "data": {
            "text/plain": [
              "array([[8, 6, 8, 6, 6, 8, 7, 9, 9, 8],\n",
              "       [9, 8, 7, 6, 7, 9, 9, 8, 9, 8]])"
            ]
          },
          "metadata": {
            "tags": []
          },
          "execution_count": 42
        }
      ]
    },
    {
      "cell_type": "code",
      "metadata": {
        "colab": {
          "base_uri": "https://localhost:8080/"
        },
        "id": "UobF_LjZSAWP",
        "outputId": "33fd7252-0ef5-400d-a0f8-60a994939bdb"
      },
      "source": [
        "b3"
      ],
      "execution_count": null,
      "outputs": [
        {
          "output_type": "execute_result",
          "data": {
            "text/plain": [
              "array([[5, 5, 5, 9, 9, 9, 8, 8, 5, 9],\n",
              "       [7, 5, 9, 8, 7, 6, 5, 6, 5, 6],\n",
              "       [9, 7, 8, 8, 7, 8, 6, 6, 6, 7]])"
            ]
          },
          "metadata": {
            "tags": []
          },
          "execution_count": 43
        }
      ]
    },
    {
      "cell_type": "markdown",
      "metadata": {
        "id": "h9MFvOE_TBar"
      },
      "source": [
        "Shape,Dimension"
      ]
    },
    {
      "cell_type": "code",
      "metadata": {
        "colab": {
          "base_uri": "https://localhost:8080/"
        },
        "id": "zZ_vRHMNTEpY",
        "outputId": "130e924c-994a-406b-e47f-85301b3f2b6c"
      },
      "source": [
        "data.shape"
      ],
      "execution_count": null,
      "outputs": [
        {
          "output_type": "execute_result",
          "data": {
            "text/plain": [
              "(10, 10)"
            ]
          },
          "metadata": {
            "tags": []
          },
          "execution_count": 44
        }
      ]
    },
    {
      "cell_type": "code",
      "metadata": {
        "colab": {
          "base_uri": "https://localhost:8080/"
        },
        "id": "wvoQbYWNTJR9",
        "outputId": "27b4bf1b-5f64-4066-a12b-c9d0c378f3bb"
      },
      "source": [
        "data.ndim"
      ],
      "execution_count": null,
      "outputs": [
        {
          "output_type": "execute_result",
          "data": {
            "text/plain": [
              "2"
            ]
          },
          "metadata": {
            "tags": []
          },
          "execution_count": 45
        }
      ]
    },
    {
      "cell_type": "code",
      "metadata": {
        "colab": {
          "base_uri": "https://localhost:8080/"
        },
        "id": "hVlWGxAhTMfQ",
        "outputId": "719546ab-cfb4-4c82-a295-ddc046fb8e1e"
      },
      "source": [
        "data.size"
      ],
      "execution_count": null,
      "outputs": [
        {
          "output_type": "execute_result",
          "data": {
            "text/plain": [
              "100"
            ]
          },
          "metadata": {
            "tags": []
          },
          "execution_count": 46
        }
      ]
    },
    {
      "cell_type": "code",
      "metadata": {
        "colab": {
          "base_uri": "https://localhost:8080/"
        },
        "id": "lPlBjH8pTQXc",
        "outputId": "e72060a1-f0f5-4657-a481-ce5b4ef77a9a"
      },
      "source": [
        "data.reshape(4,25)"
      ],
      "execution_count": null,
      "outputs": [
        {
          "output_type": "execute_result",
          "data": {
            "text/plain": [
              "array([[5, 7, 7, 9, 7, 6, 9, 6, 6, 9, 9, 9, 9, 9, 7, 7, 7, 8, 7, 8, 7, 8,\n",
              "        7, 9, 5],\n",
              "       [8, 6, 8, 9, 6, 7, 8, 5, 6, 6, 6, 6, 5, 5, 6, 8, 7, 9, 6, 5, 6, 5,\n",
              "        7, 8, 6],\n",
              "       [8, 6, 8, 6, 6, 8, 7, 9, 9, 8, 9, 8, 7, 6, 7, 9, 9, 8, 9, 8, 5, 5,\n",
              "        5, 9, 9],\n",
              "       [9, 8, 8, 5, 9, 7, 5, 9, 8, 7, 6, 5, 6, 5, 6, 9, 7, 8, 8, 7, 8, 6,\n",
              "        6, 6, 7]])"
            ]
          },
          "metadata": {
            "tags": []
          },
          "execution_count": 48
        }
      ]
    },
    {
      "cell_type": "code",
      "metadata": {
        "id": "x2TZfpQ1TZn3"
      },
      "source": [
        "d=np.array([1,2,3,4,5,6,7,9])"
      ],
      "execution_count": null,
      "outputs": []
    },
    {
      "cell_type": "code",
      "metadata": {
        "colab": {
          "base_uri": "https://localhost:8080/"
        },
        "id": "hx2Ua25LTeyX",
        "outputId": "16d823aa-665c-4a81-8c4e-89932961d727"
      },
      "source": [
        "d.ndim"
      ],
      "execution_count": null,
      "outputs": [
        {
          "output_type": "execute_result",
          "data": {
            "text/plain": [
              "1"
            ]
          },
          "metadata": {
            "tags": []
          },
          "execution_count": 50
        }
      ]
    },
    {
      "cell_type": "code",
      "metadata": {
        "colab": {
          "base_uri": "https://localhost:8080/"
        },
        "id": "kHex8-DoThW2",
        "outputId": "f1791396-d2ac-4b03-eaf4-35252d2224ab"
      },
      "source": [
        "d.shape"
      ],
      "execution_count": null,
      "outputs": [
        {
          "output_type": "execute_result",
          "data": {
            "text/plain": [
              "(8,)"
            ]
          },
          "metadata": {
            "tags": []
          },
          "execution_count": 51
        }
      ]
    },
    {
      "cell_type": "code",
      "metadata": {
        "colab": {
          "base_uri": "https://localhost:8080/"
        },
        "id": "-oNMOWAmTkf4",
        "outputId": "3ef6f6a1-73bb-4a6f-b277-7d7cd1c64676"
      },
      "source": [
        "d.size"
      ],
      "execution_count": null,
      "outputs": [
        {
          "output_type": "execute_result",
          "data": {
            "text/plain": [
              "8"
            ]
          },
          "metadata": {
            "tags": []
          },
          "execution_count": 53
        }
      ]
    },
    {
      "cell_type": "code",
      "metadata": {
        "colab": {
          "base_uri": "https://localhost:8080/"
        },
        "id": "tj3Har3cTqdy",
        "outputId": "9a6fdef7-1d8f-4d32-e8d2-395764b68bab"
      },
      "source": [
        "d.reshape(8,1)"
      ],
      "execution_count": null,
      "outputs": [
        {
          "output_type": "execute_result",
          "data": {
            "text/plain": [
              "array([[1],\n",
              "       [2],\n",
              "       [3],\n",
              "       [4],\n",
              "       [5],\n",
              "       [6],\n",
              "       [7],\n",
              "       [9]])"
            ]
          },
          "metadata": {
            "tags": []
          },
          "execution_count": 54
        }
      ]
    },
    {
      "cell_type": "code",
      "metadata": {
        "colab": {
          "base_uri": "https://localhost:8080/"
        },
        "id": "SFBwIkl-TvN7",
        "outputId": "48198989-4c7f-4dee-aee8-2cd09b5b4b9f"
      },
      "source": [
        "data.reshape(-1,20)"
      ],
      "execution_count": null,
      "outputs": [
        {
          "output_type": "execute_result",
          "data": {
            "text/plain": [
              "array([[5, 7, 7, 9, 7, 6, 9, 6, 6, 9, 9, 9, 9, 9, 7, 7, 7, 8, 7, 8],\n",
              "       [7, 8, 7, 9, 5, 8, 6, 8, 9, 6, 7, 8, 5, 6, 6, 6, 6, 5, 5, 6],\n",
              "       [8, 7, 9, 6, 5, 6, 5, 7, 8, 6, 8, 6, 8, 6, 6, 8, 7, 9, 9, 8],\n",
              "       [9, 8, 7, 6, 7, 9, 9, 8, 9, 8, 5, 5, 5, 9, 9, 9, 8, 8, 5, 9],\n",
              "       [7, 5, 9, 8, 7, 6, 5, 6, 5, 6, 9, 7, 8, 8, 7, 8, 6, 6, 6, 7]])"
            ]
          },
          "metadata": {
            "tags": []
          },
          "execution_count": 55
        }
      ]
    },
    {
      "cell_type": "markdown",
      "metadata": {
        "id": "03wqz3-iT6RX"
      },
      "source": [
        "Utility Function"
      ]
    },
    {
      "cell_type": "code",
      "metadata": {
        "colab": {
          "base_uri": "https://localhost:8080/"
        },
        "id": "xHlnbvvGT944",
        "outputId": "a16d2dda-6ddf-45e4-eaa5-47a8a470d78f"
      },
      "source": [
        "np.sum(data)"
      ],
      "execution_count": null,
      "outputs": [
        {
          "output_type": "execute_result",
          "data": {
            "text/plain": [
              "714"
            ]
          },
          "metadata": {
            "tags": []
          },
          "execution_count": 56
        }
      ]
    },
    {
      "cell_type": "code",
      "metadata": {
        "colab": {
          "base_uri": "https://localhost:8080/"
        },
        "id": "3dHbhjKHUDwV",
        "outputId": "99e446d0-77a7-4e5e-fb7e-7ff725f8f4fb"
      },
      "source": [
        "np.sum(data,axis=1)"
      ],
      "execution_count": null,
      "outputs": [
        {
          "output_type": "execute_result",
          "data": {
            "text/plain": [
              "array([71, 80, 73, 60, 67, 75, 80, 72, 64, 72])"
            ]
          },
          "metadata": {
            "tags": []
          },
          "execution_count": 57
        }
      ]
    },
    {
      "cell_type": "code",
      "metadata": {
        "colab": {
          "base_uri": "https://localhost:8080/"
        },
        "id": "0MFWU2XxUI-n",
        "outputId": "2f1c793e-d6d1-4cb5-c753-8ef8b9e0eedc"
      },
      "source": [
        "data"
      ],
      "execution_count": null,
      "outputs": [
        {
          "output_type": "execute_result",
          "data": {
            "text/plain": [
              "array([[5, 7, 7, 9, 7, 6, 9, 6, 6, 9],\n",
              "       [9, 9, 9, 9, 7, 7, 7, 8, 7, 8],\n",
              "       [7, 8, 7, 9, 5, 8, 6, 8, 9, 6],\n",
              "       [7, 8, 5, 6, 6, 6, 6, 5, 5, 6],\n",
              "       [8, 7, 9, 6, 5, 6, 5, 7, 8, 6],\n",
              "       [8, 6, 8, 6, 6, 8, 7, 9, 9, 8],\n",
              "       [9, 8, 7, 6, 7, 9, 9, 8, 9, 8],\n",
              "       [5, 5, 5, 9, 9, 9, 8, 8, 5, 9],\n",
              "       [7, 5, 9, 8, 7, 6, 5, 6, 5, 6],\n",
              "       [9, 7, 8, 8, 7, 8, 6, 6, 6, 7]])"
            ]
          },
          "metadata": {
            "tags": []
          },
          "execution_count": 58
        }
      ]
    },
    {
      "cell_type": "code",
      "metadata": {
        "colab": {
          "base_uri": "https://localhost:8080/"
        },
        "id": "EF4WSdhnUNNX",
        "outputId": "fe889f97-090c-4526-bedc-6f0064cc1acc"
      },
      "source": [
        "np.sin(data)"
      ],
      "execution_count": null,
      "outputs": [
        {
          "output_type": "execute_result",
          "data": {
            "text/plain": [
              "array([[-0.95892427,  0.6569866 ,  0.6569866 ,  0.41211849,  0.6569866 ,\n",
              "        -0.2794155 ,  0.41211849, -0.2794155 , -0.2794155 ,  0.41211849],\n",
              "       [ 0.41211849,  0.41211849,  0.41211849,  0.41211849,  0.6569866 ,\n",
              "         0.6569866 ,  0.6569866 ,  0.98935825,  0.6569866 ,  0.98935825],\n",
              "       [ 0.6569866 ,  0.98935825,  0.6569866 ,  0.41211849, -0.95892427,\n",
              "         0.98935825, -0.2794155 ,  0.98935825,  0.41211849, -0.2794155 ],\n",
              "       [ 0.6569866 ,  0.98935825, -0.95892427, -0.2794155 , -0.2794155 ,\n",
              "        -0.2794155 , -0.2794155 , -0.95892427, -0.95892427, -0.2794155 ],\n",
              "       [ 0.98935825,  0.6569866 ,  0.41211849, -0.2794155 , -0.95892427,\n",
              "        -0.2794155 , -0.95892427,  0.6569866 ,  0.98935825, -0.2794155 ],\n",
              "       [ 0.98935825, -0.2794155 ,  0.98935825, -0.2794155 , -0.2794155 ,\n",
              "         0.98935825,  0.6569866 ,  0.41211849,  0.41211849,  0.98935825],\n",
              "       [ 0.41211849,  0.98935825,  0.6569866 , -0.2794155 ,  0.6569866 ,\n",
              "         0.41211849,  0.41211849,  0.98935825,  0.41211849,  0.98935825],\n",
              "       [-0.95892427, -0.95892427, -0.95892427,  0.41211849,  0.41211849,\n",
              "         0.41211849,  0.98935825,  0.98935825, -0.95892427,  0.41211849],\n",
              "       [ 0.6569866 , -0.95892427,  0.41211849,  0.98935825,  0.6569866 ,\n",
              "        -0.2794155 , -0.95892427, -0.2794155 , -0.95892427, -0.2794155 ],\n",
              "       [ 0.41211849,  0.6569866 ,  0.98935825,  0.98935825,  0.6569866 ,\n",
              "         0.98935825, -0.2794155 , -0.2794155 , -0.2794155 ,  0.6569866 ]])"
            ]
          },
          "metadata": {
            "tags": []
          },
          "execution_count": 59
        }
      ]
    },
    {
      "cell_type": "code",
      "metadata": {
        "colab": {
          "base_uri": "https://localhost:8080/"
        },
        "id": "NzgsKRgRUYar",
        "outputId": "782cf282-d36d-426e-9c6d-a5765dfb5a77"
      },
      "source": [
        "np.tan(data)"
      ],
      "execution_count": null,
      "outputs": [
        {
          "output_type": "execute_result",
          "data": {
            "text/plain": [
              "array([[-3.38051501,  0.87144798,  0.87144798, -0.45231566,  0.87144798,\n",
              "        -0.29100619, -0.45231566, -0.29100619, -0.29100619, -0.45231566],\n",
              "       [-0.45231566, -0.45231566, -0.45231566, -0.45231566,  0.87144798,\n",
              "         0.87144798,  0.87144798, -6.79971146,  0.87144798, -6.79971146],\n",
              "       [ 0.87144798, -6.79971146,  0.87144798, -0.45231566, -3.38051501,\n",
              "        -6.79971146, -0.29100619, -6.79971146, -0.45231566, -0.29100619],\n",
              "       [ 0.87144798, -6.79971146, -3.38051501, -0.29100619, -0.29100619,\n",
              "        -0.29100619, -0.29100619, -3.38051501, -3.38051501, -0.29100619],\n",
              "       [-6.79971146,  0.87144798, -0.45231566, -0.29100619, -3.38051501,\n",
              "        -0.29100619, -3.38051501,  0.87144798, -6.79971146, -0.29100619],\n",
              "       [-6.79971146, -0.29100619, -6.79971146, -0.29100619, -0.29100619,\n",
              "        -6.79971146,  0.87144798, -0.45231566, -0.45231566, -6.79971146],\n",
              "       [-0.45231566, -6.79971146,  0.87144798, -0.29100619,  0.87144798,\n",
              "        -0.45231566, -0.45231566, -6.79971146, -0.45231566, -6.79971146],\n",
              "       [-3.38051501, -3.38051501, -3.38051501, -0.45231566, -0.45231566,\n",
              "        -0.45231566, -6.79971146, -6.79971146, -3.38051501, -0.45231566],\n",
              "       [ 0.87144798, -3.38051501, -0.45231566, -6.79971146,  0.87144798,\n",
              "        -0.29100619, -3.38051501, -0.29100619, -3.38051501, -0.29100619],\n",
              "       [-0.45231566,  0.87144798, -6.79971146, -6.79971146,  0.87144798,\n",
              "        -6.79971146, -0.29100619, -0.29100619, -0.29100619,  0.87144798]])"
            ]
          },
          "metadata": {
            "tags": []
          },
          "execution_count": 60
        }
      ]
    },
    {
      "cell_type": "code",
      "metadata": {
        "colab": {
          "base_uri": "https://localhost:8080/"
        },
        "id": "Qo5ChAD1Uh1N",
        "outputId": "75c62260-be75-4941-a1e5-2946185b963f"
      },
      "source": [
        "data.T"
      ],
      "execution_count": null,
      "outputs": [
        {
          "output_type": "execute_result",
          "data": {
            "text/plain": [
              "array([[5, 9, 7, 7, 8, 8, 9, 5, 7, 9],\n",
              "       [7, 9, 8, 8, 7, 6, 8, 5, 5, 7],\n",
              "       [7, 9, 7, 5, 9, 8, 7, 5, 9, 8],\n",
              "       [9, 9, 9, 6, 6, 6, 6, 9, 8, 8],\n",
              "       [7, 7, 5, 6, 5, 6, 7, 9, 7, 7],\n",
              "       [6, 7, 8, 6, 6, 8, 9, 9, 6, 8],\n",
              "       [9, 7, 6, 6, 5, 7, 9, 8, 5, 6],\n",
              "       [6, 8, 8, 5, 7, 9, 8, 8, 6, 6],\n",
              "       [6, 7, 9, 5, 8, 9, 9, 5, 5, 6],\n",
              "       [9, 8, 6, 6, 6, 8, 8, 9, 6, 7]])"
            ]
          },
          "metadata": {
            "tags": []
          },
          "execution_count": 61
        }
      ]
    },
    {
      "cell_type": "code",
      "metadata": {
        "colab": {
          "base_uri": "https://localhost:8080/"
        },
        "id": "JH7DZ9Z2Umd_",
        "outputId": "936f73dc-6d9a-4636-b2c9-923e206a8c67"
      },
      "source": [
        "data.mean(axis=1)"
      ],
      "execution_count": null,
      "outputs": [
        {
          "output_type": "execute_result",
          "data": {
            "text/plain": [
              "array([7.1, 8. , 7.3, 6. , 6.7, 7.5, 8. , 7.2, 6.4, 7.2])"
            ]
          },
          "metadata": {
            "tags": []
          },
          "execution_count": 62
        }
      ]
    },
    {
      "cell_type": "code",
      "metadata": {
        "colab": {
          "base_uri": "https://localhost:8080/"
        },
        "id": "bvsPhBAvUqVm",
        "outputId": "c96b1c28-e4ba-4bb3-c330-2132a4eb575e"
      },
      "source": [
        "data.std(axis=1)"
      ],
      "execution_count": null,
      "outputs": [
        {
          "output_type": "execute_result",
          "data": {
            "text/plain": [
              "array([1.37477271, 0.89442719, 1.26885775, 0.89442719, 1.26885775,\n",
              "       1.11803399, 1.        , 1.83303028, 1.28062485, 0.9797959 ])"
            ]
          },
          "metadata": {
            "tags": []
          },
          "execution_count": 64
        }
      ]
    },
    {
      "cell_type": "markdown",
      "metadata": {
        "id": "tIGCEAK2U1i7"
      },
      "source": [
        "Broadcasting"
      ]
    },
    {
      "cell_type": "code",
      "metadata": {
        "id": "snx8iJ_5U3ky"
      },
      "source": [
        "v=np.array([1,2,3,4,5])"
      ],
      "execution_count": null,
      "outputs": []
    },
    {
      "cell_type": "code",
      "metadata": {
        "id": "mU4BPLRZVDuF"
      },
      "source": [
        "s=10"
      ],
      "execution_count": null,
      "outputs": []
    },
    {
      "cell_type": "code",
      "metadata": {
        "colab": {
          "base_uri": "https://localhost:8080/"
        },
        "id": "AZFRYbKfVF4z",
        "outputId": "71f03920-572a-41bf-e69d-7f5ca5083357"
      },
      "source": [
        "v+s"
      ],
      "execution_count": null,
      "outputs": [
        {
          "output_type": "execute_result",
          "data": {
            "text/plain": [
              "array([11, 12, 13, 14, 15])"
            ]
          },
          "metadata": {
            "tags": []
          },
          "execution_count": 67
        }
      ]
    },
    {
      "cell_type": "code",
      "metadata": {
        "id": "1SqYH1g7VJQM"
      },
      "source": [
        "t=[10,11]"
      ],
      "execution_count": null,
      "outputs": []
    }
  ]
}