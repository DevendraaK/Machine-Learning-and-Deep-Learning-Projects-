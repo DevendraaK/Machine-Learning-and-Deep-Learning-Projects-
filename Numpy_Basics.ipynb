{
  "nbformat": 4,
  "nbformat_minor": 0,
  "metadata": {
    "colab": {
      "name": "Numpy_Basics.ipynb",
      "provenance": [],
      "collapsed_sections": [],
      "authorship_tag": "ABX9TyMli5StY0FkOBOgkiaDmbJJ",
      "include_colab_link": true
    },
    "kernelspec": {
      "name": "python3",
      "display_name": "Python 3"
    }
  },
  "cells": [
    {
      "cell_type": "markdown",
      "metadata": {
        "id": "view-in-github",
        "colab_type": "text"
      },
      "source": [
        "<a href=\"https://colab.research.google.com/github/DevendraaK/Machine-Learning-and-Deep-Learning-Projects-/blob/main/Numpy_Basics.ipynb\" target=\"_parent\"><img src=\"https://colab.research.google.com/assets/colab-badge.svg\" alt=\"Open In Colab\"/></a>"
      ]
    },
    {
      "cell_type": "code",
      "metadata": {
        "id": "sqYTgcQVckFa",
        "colab": {
          "base_uri": "https://localhost:8080/",
          "height": 476
        },
        "outputId": "477fab6e-c055-4927-ff39-8347292fb326"
      },
      "source": [
        "import numpy as np\n",
        "# print(np.__version__)\n",
        "print(np.show_config())"
      ],
      "execution_count": null,
      "outputs": [
        {
          "output_type": "stream",
          "text": [
            "blas_mkl_info:\n",
            "  NOT AVAILABLE\n",
            "blis_info:\n",
            "  NOT AVAILABLE\n",
            "openblas_info:\n",
            "    libraries = ['openblas', 'openblas']\n",
            "    library_dirs = ['/usr/local/lib']\n",
            "    language = c\n",
            "    define_macros = [('HAVE_CBLAS', None)]\n",
            "blas_opt_info:\n",
            "    libraries = ['openblas', 'openblas']\n",
            "    library_dirs = ['/usr/local/lib']\n",
            "    language = c\n",
            "    define_macros = [('HAVE_CBLAS', None)]\n",
            "lapack_mkl_info:\n",
            "  NOT AVAILABLE\n",
            "openblas_lapack_info:\n",
            "    libraries = ['openblas', 'openblas']\n",
            "    library_dirs = ['/usr/local/lib']\n",
            "    language = c\n",
            "    define_macros = [('HAVE_CBLAS', None)]\n",
            "lapack_opt_info:\n",
            "    libraries = ['openblas', 'openblas']\n",
            "    library_dirs = ['/usr/local/lib']\n",
            "    language = c\n",
            "    define_macros = [('HAVE_CBLAS', None)]\n",
            "None\n"
          ],
          "name": "stdout"
        }
      ]
    },
    {
      "cell_type": "markdown",
      "metadata": {
        "id": "_uCt6slDdJBi"
      },
      "source": [
        "Numpy add function"
      ]
    },
    {
      "cell_type": "code",
      "metadata": {
        "id": "2y11kxxVdjtu",
        "colab": {
          "base_uri": "https://localhost:8080/",
          "height": 34
        },
        "outputId": "3600bbca-c60c-465c-95c9-33916d45315e"
      },
      "source": [
        "import numpy as np\n",
        "print(np.info(np.add))"
      ],
      "execution_count": null,
      "outputs": [
        {
          "output_type": "stream",
          "text": [
            "None\n"
          ],
          "name": "stdout"
        }
      ]
    },
    {
      "cell_type": "markdown",
      "metadata": {
        "id": "S_dJadN9eAde"
      },
      "source": [
        "Numpy Program to test whether none of the elements of a given array is zero"
      ]
    },
    {
      "cell_type": "code",
      "metadata": {
        "id": "C0PZHAwCeLyb",
        "colab": {
          "base_uri": "https://localhost:8080/",
          "height": 85
        },
        "outputId": "77f971a0-3c92-4c41-aabc-c283a1c876f2"
      },
      "source": [
        "import numpy as np\n",
        "x=np.array([1,2,3,4])\n",
        "# print(\"Original Array:\")\n",
        "# print(x)\n"
      ],
      "execution_count": null,
      "outputs": [
        {
          "output_type": "stream",
          "text": [
            "Test if none of the elements of the said array is zero: \n",
            "True\n",
            "Test if none of the elements of the said array is zero\n",
            "False\n"
          ],
          "name": "stdout"
        }
      ]
    },
    {
      "cell_type": "markdown",
      "metadata": {
        "id": "ZYWO2SNSfq-C"
      },
      "source": [
        "Test whether any of the elements of a given array is non-zero"
      ]
    },
    {
      "cell_type": "code",
      "metadata": {
        "id": "gV3kwoTDfybS",
        "colab": {
          "base_uri": "https://localhost:8080/",
          "height": 51
        },
        "outputId": "382fc35c-1b7e-440f-d1e4-aceca0990982"
      },
      "source": [
        "import numpy as np\n",
        "x=np.array([0,0,0,0])\n",
        "# print(\"Original Array:\")\n",
        "# print(x)\n",
        "print(\"Test whether any of the elements of a given array is non-zero\")\n",
        "print(np.any(x))"
      ],
      "execution_count": null,
      "outputs": [
        {
          "output_type": "stream",
          "text": [
            "Test whether any of the elements of a given array is non-zero\n",
            "False\n"
          ],
          "name": "stdout"
        }
      ]
    },
    {
      "cell_type": "markdown",
      "metadata": {
        "id": "qWj_W9QxkaFp"
      },
      "source": [
        "Numpy program to test a given array element-wise for finiteness(not infinity or not a NUmber"
      ]
    },
    {
      "cell_type": "code",
      "metadata": {
        "id": "z49ILwH0knoi",
        "colab": {
          "base_uri": "https://localhost:8080/",
          "height": 51
        },
        "outputId": "45a1aeba-f82c-4267-f882-42003309402f"
      },
      "source": [
        "import numpy as np\n",
        "a=np.array([1,0,np.nan,np.inf])\n",
        "print(\"Original Array\")\n",
        "print(a)"
      ],
      "execution_count": null,
      "outputs": [
        {
          "output_type": "stream",
          "text": [
            "Original Array\n",
            "[ 1.  0. nan inf]\n"
          ],
          "name": "stdout"
        }
      ]
    },
    {
      "cell_type": "markdown",
      "metadata": {
        "id": "m2FaQgc4ufyp"
      },
      "source": [
        "Numpy Program to test elements-wise for positive or negative elements"
      ]
    },
    {
      "cell_type": "code",
      "metadata": {
        "id": "BLChJfRausgh",
        "colab": {
          "base_uri": "https://localhost:8080/",
          "height": 51
        },
        "outputId": "681b6012-1ad8-40f9-bc8d-1bb86c5a0e68"
      },
      "source": [
        "import numpy as np\n",
        "a=np.array([1,0,np.nan,np.inf])\n",
        "# print(\"Original Array:\")\n",
        "# print(a)\n",
        "print(\"test element-wise for positive or negative elements\")\n",
        "print(np.isinf(a))"
      ],
      "execution_count": null,
      "outputs": [
        {
          "output_type": "stream",
          "text": [
            "test element-wise for positive or negative elements\n",
            "[False False False  True]\n"
          ],
          "name": "stdout"
        }
      ]
    },
    {
      "cell_type": "markdown",
      "metadata": {
        "id": "ErCUyC_gvVHl"
      },
      "source": [
        "Numpy program to test element-wise for NaN of a given array"
      ]
    },
    {
      "cell_type": "code",
      "metadata": {
        "id": "OqD6uW1PvBsT",
        "colab": {
          "base_uri": "https://localhost:8080/",
          "height": 51
        },
        "outputId": "5fa9b184-2c77-44e8-84bc-8e298225f98c"
      },
      "source": [
        "import numpy as np\n",
        "a=np.array([1,0,np.nan,np.inf])\n",
        "# print(\"Originnal Array\")\n",
        "# print(a)\n",
        "print(\"Test element-wise for NaN:\")\n",
        "print(np.isnan(a))\n"
      ],
      "execution_count": null,
      "outputs": [
        {
          "output_type": "stream",
          "text": [
            "Test element-wise for NaN:\n",
            "[False False  True False]\n"
          ],
          "name": "stdout"
        }
      ]
    },
    {
      "cell_type": "markdown",
      "metadata": {
        "id": "dGfmEWiEwWsL"
      },
      "source": [
        "Numpy Program to test element-wise for complex number,real number of a given array."
      ]
    },
    {
      "cell_type": "code",
      "metadata": {
        "id": "YR90wCwJwjC2",
        "colab": {
          "base_uri": "https://localhost:8080/",
          "height": 68
        },
        "outputId": "387a2c97-6b2b-436e-bd87-55807c287bcf"
      },
      "source": [
        "import numpy as np\n",
        "a=np.array([1+1j,1+0j,4.5,3,2,2j])\n",
        "# print(\"Original Array\")\n",
        "# print(\"Checking for complex number:\")\n",
        "# print(np.iscomplex(a))\n",
        "# print(\"Checking for real number:\")\n",
        "# print(np.isreal(a))\n",
        "print(\"Checking for scalar type:\")\n",
        "print(np.isscalar(3.1))\n",
        "print(np.isscalar([3.1]))\n"
      ],
      "execution_count": null,
      "outputs": [
        {
          "output_type": "stream",
          "text": [
            "Checking for scalar type:\n",
            "True\n",
            "False\n"
          ],
          "name": "stdout"
        }
      ]
    },
    {
      "cell_type": "markdown",
      "metadata": {
        "id": "NcMJGoTlyM09"
      },
      "source": [
        "NumPy program to test whether two arrays are element-wise equal within a tolerance"
      ]
    },
    {
      "cell_type": "code",
      "metadata": {
        "id": "IL2D4lImw91x",
        "colab": {
          "base_uri": "https://localhost:8080/",
          "height": 85
        },
        "outputId": "edc65d31-6197-4e14-9dc3-f5dc79e21cf7"
      },
      "source": [
        "import numpy as np\n",
        "print(\"Test if two arrays are element-wise equal within a tolerance:\")\n",
        "print((np.allclose([1e10,1e-7], [1.00001e10,1e-8])))\n",
        "print(np.allclose([1e10,1e-8], [1.00001e10,1e-9]))\n",
        "print(np.allclose([67],[67]))"
      ],
      "execution_count": null,
      "outputs": [
        {
          "output_type": "stream",
          "text": [
            "Test if two arrays are element-wise equal within a tolerance:\n",
            "False\n",
            "True\n",
            "True\n"
          ],
          "name": "stdout"
        }
      ]
    },
    {
      "cell_type": "markdown",
      "metadata": {
        "id": "izUvteYv8CmD"
      },
      "source": [
        "program to create an element-wise comparison (greater, greater_equal, less and less_equal) of two given arrays."
      ]
    },
    {
      "cell_type": "code",
      "metadata": {
        "id": "IehrYMm18NQv",
        "colab": {
          "base_uri": "https://localhost:8080/",
          "height": 51
        },
        "outputId": "cae9afac-0546-421e-9100-2f61a98d18b1"
      },
      "source": [
        "import numpy as np\n",
        "x=np.array([3,5])\n",
        "y=np.array([2,5])\n",
        "# print(\"Original Numbers:\")\n",
        "# print(x)\n",
        "# print(y)\n",
        "# print(np.greater(x,y))\n",
        "# print(np.greater_equal(x,y))\n",
        "\n"
      ],
      "execution_count": null,
      "outputs": [
        {
          "output_type": "stream",
          "text": [
            "[ True False]\n",
            "[ True  True]\n"
          ],
          "name": "stdout"
        }
      ]
    },
    {
      "cell_type": "markdown",
      "metadata": {
        "id": "iPBw6Rj59DBR"
      },
      "source": [
        "NumPy program to create an element-wise comparison (equal, equal within a tolerance) of two given arrays."
      ]
    },
    {
      "cell_type": "code",
      "metadata": {
        "id": "ROMNg5-09IOV",
        "colab": {
          "base_uri": "https://localhost:8080/",
          "height": 153
        },
        "outputId": "5aac60ed-b5db-4c08-f267-b53df91e1cc4"
      },
      "source": [
        "import numpy as np\n",
        "x=np.array([72,79,85,90,150,-135,120,-10,60,100])\n",
        "y=np.array([72,79,85,90,150,-135,120,-10,60,100.001])\n",
        "print(\"Original Array:\")\n",
        "print(x)\n",
        "print(y)\n",
        "print(\"Comparison-equal\")\n",
        "print(np.equal(x,y))\n",
        "print(\"Comparison -equal within a toelrence\")\n",
        "print(np.allclose(x,y))\n"
      ],
      "execution_count": null,
      "outputs": [
        {
          "output_type": "stream",
          "text": [
            "Original Array:\n",
            "[  72   79   85   90  150 -135  120  -10   60  100]\n",
            "[  72.      79.      85.      90.     150.    -135.     120.     -10.\n",
            "   60.     100.001]\n",
            "Comparison-equal\n",
            "[ True  True  True  True  True  True  True  True  True False]\n",
            "Comparison -equal within a toelrence\n",
            "True\n"
          ],
          "name": "stdout"
        }
      ]
    },
    {
      "cell_type": "markdown",
      "metadata": {
        "id": "nZ7W8i26KHoI"
      },
      "source": [
        "NumPy program to create an element-wise comparison (equal, equal within a tolerance) of two given arrays."
      ]
    },
    {
      "cell_type": "code",
      "metadata": {
        "id": "hK6CrB52KN0q",
        "colab": {
          "base_uri": "https://localhost:8080/",
          "height": 68
        },
        "outputId": "667dedfd-ff4a-431b-d175-dc9f9bacdfd7"
      },
      "source": [
        "import numpy as np\n",
        "X=np.array([1,7,13,105])\n",
        "print(\"Original Array:\")\n",
        "print(X)\n",
        "print(\"%d bytes\" % (X.size * X.itemsize))"
      ],
      "execution_count": null,
      "outputs": [
        {
          "output_type": "stream",
          "text": [
            "Original Array:\n",
            "[  1   7  13 105]\n",
            "32 bytes\n"
          ],
          "name": "stdout"
        }
      ]
    },
    {
      "cell_type": "markdown",
      "metadata": {
        "id": "m3xlrlJrKqw4"
      },
      "source": [
        "NumPy program to create an array of 10 zeros, 10 ones, 10 fives."
      ]
    },
    {
      "cell_type": "code",
      "metadata": {
        "id": "riPTWqc8KsFE",
        "colab": {
          "base_uri": "https://localhost:8080/",
          "height": 119
        },
        "outputId": "e987bbef-98bd-4914-ad6e-d2bc020238a6"
      },
      "source": [
        "import numpy as np\n",
        "array=np.zeros(10)\n",
        "print(\"An array of 10 zeros:\")\n",
        "print(array)\n",
        "array=np.ones(10)\n",
        "print(\"An array of 10 ones:\")\n",
        "print(array)\n",
        "array=np.ones(10)*5\n",
        "print(\"An array of 10 fives\")\n",
        "print(array)"
      ],
      "execution_count": null,
      "outputs": [
        {
          "output_type": "stream",
          "text": [
            "An array of 10 zeros:\n",
            "[0. 0. 0. 0. 0. 0. 0. 0. 0. 0.]\n",
            "An array of 10 ones:\n",
            "[1. 1. 1. 1. 1. 1. 1. 1. 1. 1.]\n",
            "An array of 10 fives\n",
            "[5. 5. 5. 5. 5. 5. 5. 5. 5. 5.]\n"
          ],
          "name": "stdout"
        }
      ]
    },
    {
      "cell_type": "markdown",
      "metadata": {
        "id": "4yjJZrSELx4N"
      },
      "source": [
        ""
      ]
    },
    {
      "cell_type": "markdown",
      "metadata": {
        "id": "ysOCNdTsL2nT"
      },
      "source": [
        "NumPy program to create an array of 10 zeros, 10 ones, 10 fives."
      ]
    },
    {
      "cell_type": "code",
      "metadata": {
        "id": "TlTOjggvL5Sz",
        "colab": {
          "base_uri": "https://localhost:8080/",
          "height": 68
        },
        "outputId": "27ede5c8-f471-4a05-d34f-556c892a7d83"
      },
      "source": [
        "import numpy as np\n",
        "array=np.arange(30,71)\n",
        "print(\"Array of the integers from 30 to 70\")\n",
        "print(array)"
      ],
      "execution_count": null,
      "outputs": [
        {
          "output_type": "stream",
          "text": [
            "Array of the integers from 30 to 70\n",
            "[30 31 32 33 34 35 36 37 38 39 40 41 42 43 44 45 46 47 48 49 50 51 52 53\n",
            " 54 55 56 57 58 59 60 61 62 63 64 65 66 67 68 69 70]\n"
          ],
          "name": "stdout"
        }
      ]
    },
    {
      "cell_type": "markdown",
      "metadata": {
        "id": "yVR2WNesMfNd"
      },
      "source": [
        " NumPy program to create a 3x3 identity matrix"
      ]
    },
    {
      "cell_type": "code",
      "metadata": {
        "id": "XWYTrx61Mgme",
        "colab": {
          "base_uri": "https://localhost:8080/",
          "height": 85
        },
        "outputId": "b12d10e4-fbfd-46ee-a971-ab2054bef479"
      },
      "source": [
        "import numpy as np\n",
        "array_2D=np.identity(3)\n",
        "print('3*3 matrix:')\n",
        "print(array_2D)"
      ],
      "execution_count": null,
      "outputs": [
        {
          "output_type": "stream",
          "text": [
            "3*3 matrix:\n",
            "[[1. 0. 0.]\n",
            " [0. 1. 0.]\n",
            " [0. 0. 1.]]\n"
          ],
          "name": "stdout"
        }
      ]
    },
    {
      "cell_type": "markdown",
      "metadata": {
        "id": "OT54_-NHM76l"
      },
      "source": [
        "NumPy program to create an array of all the even integers from 30 to 70."
      ]
    },
    {
      "cell_type": "code",
      "metadata": {
        "id": "V0EkoLo-M9Fh",
        "colab": {
          "base_uri": "https://localhost:8080/",
          "height": 51
        },
        "outputId": "b0f70283-5be7-44f6-8f77-3f5b2b4d3d6d"
      },
      "source": [
        "import numpy as np\n",
        "array=np.arange(30,71,2)\n",
        "print(\"Array of all the even integers from 30 to 70:\")\n",
        "print(array)"
      ],
      "execution_count": null,
      "outputs": [
        {
          "output_type": "stream",
          "text": [
            "Array of all the even integers from 30 to 70:\n",
            "[30 32 34 36 38 40 42 44 46 48 50 52 54 56 58 60 62 64 66 68 70]\n"
          ],
          "name": "stdout"
        }
      ]
    },
    {
      "cell_type": "markdown",
      "metadata": {
        "id": "IDKCkin1N7FS"
      },
      "source": [
        "NumPy program to generate a random number between 0 and 1"
      ]
    },
    {
      "cell_type": "code",
      "metadata": {
        "id": "Fih2mzMxN_j0"
      },
      "source": [
        "import numpy as np\n",
        "rand"
      ],
      "execution_count": null,
      "outputs": []
    }
  ]
}